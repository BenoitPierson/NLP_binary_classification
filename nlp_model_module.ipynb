{
 "cells": [
  {
   "cell_type": "markdown",
   "metadata": {},
   "source": [
    "# NLP model building"
   ]
  },
  {
   "cell_type": "markdown",
   "metadata": {},
   "source": [
    "Purpose : Building a model able to do a classification on sentences"
   ]
  },
  {
   "cell_type": "markdown",
   "metadata": {},
   "source": [
    "## 0 - Interesting links"
   ]
  },
  {
   "cell_type": "markdown",
   "metadata": {},
   "source": [
    "* https://www.youtube.com/playlist?list=PLQY2H8rRoyvzDbLUZkbudP-MFQZwNmU4S\n",
    "* https://www.youtube.com/watch?v=Y_hzMnRXjhI&list=PLQY2H8rRoyvzDbLUZkbudP-MFQZwNmU4S&index=3\n",
    "* https://machinelearningmastery.com/use-word-embedding-layers-deep-learning-keras/#:~:text=Keras%20offers%20an%20Embedding%20layer%20that%20can%20be,using%20the%20Tokenizer%20API%20also%20provided%20with%20Keras.\n",
    "* \n",
    "https://colab.research.google.com/github/lmoroney/dlaicourse/blob/master/TensorFlow%20In%20Practice/Course%203%20-%20NLP/Course%203%20-%20Week%202%20-%20Lesson%202.ipynb#scrollTo=3u8UB0MCkZ5N\n",
    "* https://towardsdatascience.com/a-practical-introduction-to-keras-callbacks-in-tensorflow-2-705d0c584966"
   ]
  },
  {
   "cell_type": "markdown",
   "metadata": {},
   "source": [
    "## 1 - Libraries import"
   ]
  },
  {
   "cell_type": "code",
   "execution_count": 1,
   "metadata": {},
   "outputs": [],
   "source": [
    "import json\n",
    "import random\n",
    "import emojis\n",
    "import emoji\n",
    "import numpy as np\n",
    "import pandas as pd\n",
    "import sklearn as sk\n",
    "import tensorflow as tf\n",
    "import matplotlib.pyplot as plt\n",
    "from sklearn.metrics import confusion_matrix\n",
    "from tensorflow.keras.models import load_model\n",
    "from tensorflow.keras.preprocessing.text import Tokenizer\n",
    "from tensorflow.keras.preprocessing.sequence import pad_sequences\n",
    "from tensorflow.keras.callbacks import EarlyStopping\n",
    "from tensorflow.keras.callbacks import CSVLogger"
   ]
  },
  {
   "cell_type": "markdown",
   "metadata": {},
   "source": [
    "## 2 - Variables definition"
   ]
  },
  {
   "cell_type": "code",
   "execution_count": 51,
   "metadata": {},
   "outputs": [],
   "source": [
    "nb_train = 7000 # Number of training examples considered\n",
    "nb_valid = 1500 # Number of validation examples considered\n",
    "vocab_size = 10000 # Number of words to be considered regarding on their frequency\n",
    "max_length = 100 # Maximum length of a sentence --> Size of entrance of neural network\n",
    "embedding_dim = 10 # Embedding dimension for vector representation of words\n",
    "nb_epochs = 40 # Number of epochs for training\n",
    "batch_size = 128 # Number of training examples considered in mini batches during training"
   ]
  },
  {
   "cell_type": "markdown",
   "metadata": {},
   "source": [
    "## 3 - Training JSON file reading"
   ]
  },
  {
   "cell_type": "code",
   "execution_count": 52,
   "metadata": {},
   "outputs": [],
   "source": [
    "training_examples = []\n",
    "URL = []\n",
    "X = [] # sentences\n",
    "Y = [] # sarcastic or not\n",
    "\n",
    "for line in open('review_amazon_ordinateurportable02_November_2020.json', 'r'):\n",
    "    training_examples.append(json.loads(line))\n",
    "\n",
    "training_examples = training_examples[0]\n",
    "\n",
    "for item in training_examples:\n",
    "    X.append(item['review'])    \n",
    "    Y.append(item['positive'])"
   ]
  },
  {
   "cell_type": "code",
   "execution_count": 53,
   "metadata": {
    "scrolled": true
   },
   "outputs": [
    {
     "name": "stdout",
     "output_type": "stream",
     "text": [
      "POSITIVE COMMENTS : \n",
      "------------------------------------------------------------------------------------------------------------------------\n",
      "  6300 hundred processor is few generation old,  It should be priced 350 or 399 : 👍\n",
      "  I ordered this yesterday and got it within 24 hours, I love it : 👍\n",
      "  I bought this to replace a 2012 Mac Mini in our kitchen,It was over $500 - I wish it was a little cheaper, maybe $400, but at least it should last me 5+ years if nothing dies and I can easily use it with a TV if I want to change my use case : 👍\n",
      "  So easy to use compared to Window  PC, I wanted to replace my All in one PC and the Chromebox with a monitor and speakers did the Job : 👍\n",
      "  I bought this to play GeForce Now on since my old computer can't handle it, I recommend to anyone looking to PC game but don't wanna drop $1000 on a gaming rig : 👍\n",
      "  Many more attachments can be used, I have a couple of extra monitors that work well with this : 👍\n",
      "  Bought this for my son to use for school (since he will be going virtual schooling this year) and very easy set up, works just like a chrome book but as a small computer tower can attach it to back of a tv if you want to take up even less room (we did not do this) : 👍\n",
      "\n",
      "========================================================================================================================\n",
      "\n",
      "NEGATIVE COMMENTS : \n",
      "------------------------------------------------------------------------------------------------------------------------\n",
      "  Product DOA, What is the use of of a computer that does not boot up : 👎\n",
      "  did not last 1 year, hardware failure, : 👎\n",
      "  Item faulty, Doesn`t work : 👎\n"
     ]
    }
   ],
   "source": [
    "print(\"POSITIVE COMMENTS : \\n\" + \"-\"*120)\n",
    "for i in range(10):\n",
    "    if Y[i] == 1:\n",
    "        print(X[i] + ' : ' + emoji.emojize(':thumbs_up:'))\n",
    "        \n",
    "    \n",
    "print('\\n' + '='*120 + '\\n')\n",
    "\n",
    "print(\"NEGATIVE COMMENTS : \\n\" + \"-\"*120)\n",
    "for i in range(10):\n",
    "    if Y[i] == 0:\n",
    "        print(X[i] + ' : ' + emoji.emojize(':thumbs_down:'))"
   ]
  },
  {
   "cell_type": "markdown",
   "metadata": {},
   "source": [
    "## 4 - Training / Test dataset splitting"
   ]
  },
  {
   "cell_type": "code",
   "execution_count": 54,
   "metadata": {},
   "outputs": [],
   "source": [
    "training_examples = list(zip(X, Y))\n",
    "random.shuffle(training_examples)\n",
    "X, Y = zip(*training_examples)\n",
    "\n",
    "X_train = list(X[0:nb_train])\n",
    "Y_train = list(Y[0:nb_train])\n",
    "\n",
    "X_valid = list(X[nb_train:nb_train + nb_valid])\n",
    "Y_valid = list(Y[nb_train:nb_train + nb_valid])\n",
    "\n",
    "X_test = list(X[nb_train + nb_valid:])\n",
    "Y_test = list(Y[nb_train + nb_valid:])"
   ]
  },
  {
   "cell_type": "markdown",
   "metadata": {},
   "source": [
    "## 5 - Sentences tokenization"
   ]
  },
  {
   "cell_type": "code",
   "execution_count": 55,
   "metadata": {},
   "outputs": [],
   "source": [
    "tokenizer = Tokenizer(oov_token = \"<OOV>\", num_words = vocab_size) # Strategy for considering Out Of Vocabulary words\n",
    "tokenizer.fit_on_texts(X_train) # Only considering words in training examples\n",
    "word_index = tokenizer.word_index\n",
    "\n",
    "# Pre-processing training set:\n",
    "X_train = tokenizer.texts_to_sequences(X_train)\n",
    "X_train = pad_sequences(X_train, maxlen = max_length, padding = 'post', truncating = 'post')\n",
    "\n",
    "# Pre-processing validation set:\n",
    "X_valid = tokenizer.texts_to_sequences(X_valid)\n",
    "X_valid = pad_sequences(X_valid, maxlen = max_length, padding = 'post', truncating = 'post')\n",
    "\n",
    "# Pre-processing test set:\n",
    "X_test = tokenizer.texts_to_sequences(X_test)\n",
    "X_test = pad_sequences(X_test, maxlen = max_length, padding = 'post', truncating = 'post')"
   ]
  },
  {
   "cell_type": "markdown",
   "metadata": {},
   "source": [
    "## 6 - Model architecture definition"
   ]
  },
  {
   "cell_type": "code",
   "execution_count": 72,
   "metadata": {},
   "outputs": [],
   "source": [
    "model = tf.keras.Sequential([\n",
    "    tf.keras.layers.Embedding(input_dim = vocab_size, output_dim = embedding_dim, input_length = max_length),\n",
    "    tf.keras.layers.Dropout(0.45),\n",
    "    tf.keras.layers.GlobalAveragePooling1D(),\n",
    "    tf.keras.layers.Dense(24, activation = 'relu'),\n",
    "    tf.keras.layers.Dropout(0.45),\n",
    "    tf.keras.layers.Dense(1, activation = 'sigmoid')\n",
    "])\n",
    "\n",
    "model.compile(loss='binary_crossentropy', optimizer='adam', metrics=['accuracy'])"
   ]
  },
  {
   "cell_type": "code",
   "execution_count": 73,
   "metadata": {},
   "outputs": [
    {
     "name": "stdout",
     "output_type": "stream",
     "text": [
      "Model: \"sequential_4\"\n",
      "_________________________________________________________________\n",
      "Layer (type)                 Output Shape              Param #   \n",
      "=================================================================\n",
      "embedding_4 (Embedding)      (None, 100, 10)           100000    \n",
      "_________________________________________________________________\n",
      "dropout_8 (Dropout)          (None, 100, 10)           0         \n",
      "_________________________________________________________________\n",
      "global_average_pooling1d_4 ( (None, 10)                0         \n",
      "_________________________________________________________________\n",
      "dense_8 (Dense)              (None, 24)                264       \n",
      "_________________________________________________________________\n",
      "dropout_9 (Dropout)          (None, 24)                0         \n",
      "_________________________________________________________________\n",
      "dense_9 (Dense)              (None, 1)                 25        \n",
      "=================================================================\n",
      "Total params: 100,289\n",
      "Trainable params: 100,289\n",
      "Non-trainable params: 0\n",
      "_________________________________________________________________\n"
     ]
    }
   ],
   "source": [
    "model.summary()"
   ]
  },
  {
   "cell_type": "markdown",
   "metadata": {},
   "source": [
    "## 7 - Model training"
   ]
  },
  {
   "cell_type": "code",
   "execution_count": 74,
   "metadata": {},
   "outputs": [],
   "source": [
    "callback_list = []\n",
    "\n",
    "callback_list.append(EarlyStopping(monitor = 'val_loss', patience = 10, min_delta = 0.0, mode = 'min')) # Callback to ensure parameters update in accordance with test accuracy improvement\n",
    "callback_list.append(CSVLogger('training_log.csv')) # Callback to get a feedback"
   ]
  },
  {
   "cell_type": "code",
   "execution_count": 75,
   "metadata": {},
   "outputs": [
    {
     "name": "stdout",
     "output_type": "stream",
     "text": [
      "Epoch 1/40\n",
      "219/219 - 1s - loss: 0.6762 - accuracy: 0.5971 - val_loss: 0.6746 - val_accuracy: 0.5860\n",
      "Epoch 2/40\n",
      "219/219 - 1s - loss: 0.6693 - accuracy: 0.5974 - val_loss: 0.6667 - val_accuracy: 0.5860\n",
      "Epoch 3/40\n",
      "219/219 - 1s - loss: 0.6479 - accuracy: 0.6046 - val_loss: 0.6264 - val_accuracy: 0.6647\n",
      "Epoch 4/40\n",
      "219/219 - 1s - loss: 0.5841 - accuracy: 0.6993 - val_loss: 0.5472 - val_accuracy: 0.7740\n",
      "Epoch 5/40\n",
      "219/219 - 1s - loss: 0.5089 - accuracy: 0.7673 - val_loss: 0.4899 - val_accuracy: 0.7840\n",
      "Epoch 6/40\n",
      "219/219 - 1s - loss: 0.4584 - accuracy: 0.7966 - val_loss: 0.4797 - val_accuracy: 0.7573\n",
      "Epoch 7/40\n",
      "219/219 - 1s - loss: 0.4204 - accuracy: 0.8199 - val_loss: 0.4611 - val_accuracy: 0.7733\n",
      "Epoch 8/40\n",
      "219/219 - 1s - loss: 0.3933 - accuracy: 0.8383 - val_loss: 0.4396 - val_accuracy: 0.8033\n",
      "Epoch 9/40\n",
      "219/219 - 1s - loss: 0.3678 - accuracy: 0.8493 - val_loss: 0.4374 - val_accuracy: 0.8107\n",
      "Epoch 10/40\n",
      "219/219 - 1s - loss: 0.3486 - accuracy: 0.8614 - val_loss: 0.4362 - val_accuracy: 0.8060\n",
      "Epoch 11/40\n",
      "219/219 - 1s - loss: 0.3310 - accuracy: 0.8746 - val_loss: 0.4431 - val_accuracy: 0.8067\n",
      "Epoch 12/40\n",
      "219/219 - 1s - loss: 0.3165 - accuracy: 0.8847 - val_loss: 0.4684 - val_accuracy: 0.7940\n",
      "Epoch 13/40\n",
      "219/219 - 1s - loss: 0.2955 - accuracy: 0.8901 - val_loss: 0.4682 - val_accuracy: 0.7933\n",
      "Epoch 14/40\n",
      "219/219 - 1s - loss: 0.2831 - accuracy: 0.8956 - val_loss: 0.4548 - val_accuracy: 0.8080\n",
      "Epoch 15/40\n",
      "219/219 - 1s - loss: 0.2732 - accuracy: 0.8997 - val_loss: 0.4617 - val_accuracy: 0.7993\n",
      "Epoch 16/40\n",
      "219/219 - 1s - loss: 0.2705 - accuracy: 0.9001 - val_loss: 0.4665 - val_accuracy: 0.8053\n",
      "Epoch 17/40\n",
      "219/219 - 1s - loss: 0.2487 - accuracy: 0.9149 - val_loss: 0.5162 - val_accuracy: 0.7840\n",
      "Epoch 18/40\n",
      "219/219 - 1s - loss: 0.2395 - accuracy: 0.9117 - val_loss: 0.4875 - val_accuracy: 0.8053\n",
      "Epoch 19/40\n",
      "219/219 - 1s - loss: 0.2301 - accuracy: 0.9209 - val_loss: 0.4943 - val_accuracy: 0.8013\n",
      "Epoch 20/40\n",
      "219/219 - 1s - loss: 0.2221 - accuracy: 0.9206 - val_loss: 0.5186 - val_accuracy: 0.7980\n"
     ]
    }
   ],
   "source": [
    "X_train = np.array(X_train)\n",
    "Y_train = np.array(Y_train)\n",
    "\n",
    "X_valid = np.array(X_valid)\n",
    "Y_valid = np.array(Y_valid)\n",
    "\n",
    "X_test = np.array(X_test)\n",
    "Y_test = np.array(Y_test)\n",
    "\n",
    "history = model.fit(X_train, Y_train, epochs = nb_epochs, mini_batch = batch_size, validation_data = (X_valid, Y_valid), verbose = 2, callbacks = callback_list)"
   ]
  },
  {
   "cell_type": "markdown",
   "metadata": {},
   "source": [
    "## 8 - Model training analysis"
   ]
  },
  {
   "cell_type": "markdown",
   "metadata": {},
   "source": [
    "### 8.1 - Accuracy & Loss plots"
   ]
  },
  {
   "cell_type": "code",
   "execution_count": 76,
   "metadata": {},
   "outputs": [
    {
     "data": {
      "image/png": "[encoded data removed]",
      "text/plain": [
       "<Figure size 432x288 with 1 Axes>"
      ]
     },
     "metadata": {
      "needs_background": "light"
     },
     "output_type": "display_data"
    },
    {
     "data": {
      "image/png": "[encoded data removed]",
      "text/plain": [
       "<Figure size 432x288 with 1 Axes>"
      ]
     },
     "metadata": {
      "needs_background": "light"
     },
     "output_type": "display_data"
    }
   ],
   "source": [
    "def plot_graphs(history, string):\n",
    "    plt.plot(history.history[string])\n",
    "    plt.plot(history.history['val_'+string])\n",
    "    plt.xlabel(\"Epochs\")\n",
    "    plt.ylabel(string)\n",
    "    plt.legend([string, 'val_'+string])\n",
    "    plt.show()\n",
    "    \n",
    "plot_graphs(history, \"accuracy\") \n",
    "plot_graphs(history, \"loss\")"
   ]
  },
  {
   "cell_type": "markdown",
   "metadata": {},
   "source": [
    "### 8.2 - Loading log file information"
   ]
  },
  {
   "cell_type": "code",
   "execution_count": 77,
   "metadata": {},
   "outputs": [
    {
     "data": {
      "text/html": [
       "<div>\n",
       "<style scoped>\n",
       "    .dataframe tbody tr th:only-of-type {\n",
       "        vertical-align: middle;\n",
       "    }\n",
       "\n",
       "    .dataframe tbody tr th {\n",
       "        vertical-align: top;\n",
       "    }\n",
       "\n",
       "    .dataframe thead th {\n",
       "        text-align: right;\n",
       "    }\n",
       "</style>\n",
       "<table border=\"1\" class=\"dataframe\">\n",
       "  <thead>\n",
       "    <tr style=\"text-align: right;\">\n",
       "      <th></th>\n",
       "      <th>epoch</th>\n",
       "      <th>accuracy</th>\n",
       "      <th>loss</th>\n",
       "      <th>val_accuracy</th>\n",
       "      <th>val_loss</th>\n",
       "    </tr>\n",
       "  </thead>\n",
       "  <tbody>\n",
       "    <tr>\n",
       "      <th>0</th>\n",
       "      <td>0</td>\n",
       "      <td>0.597143</td>\n",
       "      <td>0.676180</td>\n",
       "      <td>0.586000</td>\n",
       "      <td>0.674555</td>\n",
       "    </tr>\n",
       "    <tr>\n",
       "      <th>1</th>\n",
       "      <td>1</td>\n",
       "      <td>0.597429</td>\n",
       "      <td>0.669297</td>\n",
       "      <td>0.586000</td>\n",
       "      <td>0.666667</td>\n",
       "    </tr>\n",
       "    <tr>\n",
       "      <th>2</th>\n",
       "      <td>2</td>\n",
       "      <td>0.604571</td>\n",
       "      <td>0.647867</td>\n",
       "      <td>0.664667</td>\n",
       "      <td>0.626351</td>\n",
       "    </tr>\n",
       "    <tr>\n",
       "      <th>3</th>\n",
       "      <td>3</td>\n",
       "      <td>0.699286</td>\n",
       "      <td>0.584114</td>\n",
       "      <td>0.774000</td>\n",
       "      <td>0.547218</td>\n",
       "    </tr>\n",
       "    <tr>\n",
       "      <th>4</th>\n",
       "      <td>4</td>\n",
       "      <td>0.767286</td>\n",
       "      <td>0.508910</td>\n",
       "      <td>0.784000</td>\n",
       "      <td>0.489899</td>\n",
       "    </tr>\n",
       "    <tr>\n",
       "      <th>5</th>\n",
       "      <td>5</td>\n",
       "      <td>0.796571</td>\n",
       "      <td>0.458396</td>\n",
       "      <td>0.757333</td>\n",
       "      <td>0.479716</td>\n",
       "    </tr>\n",
       "    <tr>\n",
       "      <th>6</th>\n",
       "      <td>6</td>\n",
       "      <td>0.819857</td>\n",
       "      <td>0.420373</td>\n",
       "      <td>0.773333</td>\n",
       "      <td>0.461138</td>\n",
       "    </tr>\n",
       "    <tr>\n",
       "      <th>7</th>\n",
       "      <td>7</td>\n",
       "      <td>0.838286</td>\n",
       "      <td>0.393320</td>\n",
       "      <td>0.803333</td>\n",
       "      <td>0.439613</td>\n",
       "    </tr>\n",
       "    <tr>\n",
       "      <th>8</th>\n",
       "      <td>8</td>\n",
       "      <td>0.849286</td>\n",
       "      <td>0.367816</td>\n",
       "      <td>0.810667</td>\n",
       "      <td>0.437372</td>\n",
       "    </tr>\n",
       "    <tr>\n",
       "      <th>9</th>\n",
       "      <td>9</td>\n",
       "      <td>0.861429</td>\n",
       "      <td>0.348647</td>\n",
       "      <td>0.806000</td>\n",
       "      <td>0.436175</td>\n",
       "    </tr>\n",
       "    <tr>\n",
       "      <th>10</th>\n",
       "      <td>10</td>\n",
       "      <td>0.874571</td>\n",
       "      <td>0.330957</td>\n",
       "      <td>0.806667</td>\n",
       "      <td>0.443098</td>\n",
       "    </tr>\n",
       "    <tr>\n",
       "      <th>11</th>\n",
       "      <td>11</td>\n",
       "      <td>0.884714</td>\n",
       "      <td>0.316453</td>\n",
       "      <td>0.794000</td>\n",
       "      <td>0.468385</td>\n",
       "    </tr>\n",
       "    <tr>\n",
       "      <th>12</th>\n",
       "      <td>12</td>\n",
       "      <td>0.890143</td>\n",
       "      <td>0.295514</td>\n",
       "      <td>0.793333</td>\n",
       "      <td>0.468201</td>\n",
       "    </tr>\n",
       "    <tr>\n",
       "      <th>13</th>\n",
       "      <td>13</td>\n",
       "      <td>0.895571</td>\n",
       "      <td>0.283104</td>\n",
       "      <td>0.808000</td>\n",
       "      <td>0.454785</td>\n",
       "    </tr>\n",
       "    <tr>\n",
       "      <th>14</th>\n",
       "      <td>14</td>\n",
       "      <td>0.899714</td>\n",
       "      <td>0.273250</td>\n",
       "      <td>0.799333</td>\n",
       "      <td>0.461696</td>\n",
       "    </tr>\n",
       "    <tr>\n",
       "      <th>15</th>\n",
       "      <td>15</td>\n",
       "      <td>0.900143</td>\n",
       "      <td>0.270549</td>\n",
       "      <td>0.805333</td>\n",
       "      <td>0.466534</td>\n",
       "    </tr>\n",
       "    <tr>\n",
       "      <th>16</th>\n",
       "      <td>16</td>\n",
       "      <td>0.914857</td>\n",
       "      <td>0.248667</td>\n",
       "      <td>0.784000</td>\n",
       "      <td>0.516214</td>\n",
       "    </tr>\n",
       "    <tr>\n",
       "      <th>17</th>\n",
       "      <td>17</td>\n",
       "      <td>0.911714</td>\n",
       "      <td>0.239470</td>\n",
       "      <td>0.805333</td>\n",
       "      <td>0.487474</td>\n",
       "    </tr>\n",
       "    <tr>\n",
       "      <th>18</th>\n",
       "      <td>18</td>\n",
       "      <td>0.920857</td>\n",
       "      <td>0.230133</td>\n",
       "      <td>0.801333</td>\n",
       "      <td>0.494259</td>\n",
       "    </tr>\n",
       "    <tr>\n",
       "      <th>19</th>\n",
       "      <td>19</td>\n",
       "      <td>0.920571</td>\n",
       "      <td>0.222126</td>\n",
       "      <td>0.798000</td>\n",
       "      <td>0.518632</td>\n",
       "    </tr>\n",
       "  </tbody>\n",
       "</table>\n",
       "</div>"
      ],
      "text/plain": [
       "    epoch  accuracy      loss  val_accuracy  val_loss\n",
       "0       0  0.597143  0.676180      0.586000  0.674555\n",
       "1       1  0.597429  0.669297      0.586000  0.666667\n",
       "2       2  0.604571  0.647867      0.664667  0.626351\n",
       "3       3  0.699286  0.584114      0.774000  0.547218\n",
       "4       4  0.767286  0.508910      0.784000  0.489899\n",
       "5       5  0.796571  0.458396      0.757333  0.479716\n",
       "6       6  0.819857  0.420373      0.773333  0.461138\n",
       "7       7  0.838286  0.393320      0.803333  0.439613\n",
       "8       8  0.849286  0.367816      0.810667  0.437372\n",
       "9       9  0.861429  0.348647      0.806000  0.436175\n",
       "10     10  0.874571  0.330957      0.806667  0.443098\n",
       "11     11  0.884714  0.316453      0.794000  0.468385\n",
       "12     12  0.890143  0.295514      0.793333  0.468201\n",
       "13     13  0.895571  0.283104      0.808000  0.454785\n",
       "14     14  0.899714  0.273250      0.799333  0.461696\n",
       "15     15  0.900143  0.270549      0.805333  0.466534\n",
       "16     16  0.914857  0.248667      0.784000  0.516214\n",
       "17     17  0.911714  0.239470      0.805333  0.487474\n",
       "18     18  0.920857  0.230133      0.801333  0.494259\n",
       "19     19  0.920571  0.222126      0.798000  0.518632"
      ]
     },
     "execution_count": 77,
     "metadata": {},
     "output_type": "execute_result"
    }
   ],
   "source": [
    "df_log = pd.read_csv('training_log.csv')\n",
    "df_log"
   ]
  },
  {
   "cell_type": "markdown",
   "metadata": {},
   "source": [
    "## 9 - Predictions on test set & new sentences"
   ]
  },
  {
   "cell_type": "code",
   "execution_count": 78,
   "metadata": {},
   "outputs": [
    {
     "name": "stdout",
     "output_type": "stream",
     "text": [
      "CONFUSION MATRIX\n",
      "====================\n",
      "TRUE POSITIVES : 137\n",
      "FALSE POSITIVES : 39\n",
      "FALSE NEGATIVES : 67\n",
      "TRUE NEGATIVES : 266\n",
      "--------------------\n",
      "ACCURACY : 79.17 %\n"
     ]
    }
   ],
   "source": [
    "Y_test_prediction = np.round_(model.predict(X_test)[:,0])\n",
    "conf_matrix = confusion_matrix(Y_test_prediction, Y_test)\n",
    "\n",
    "print('CONFUSION MATRIX' + '\\n' + '='*20)\n",
    "print('TRUE POSITIVES : ' + str(conf_matrix[0][0]) + '\\nFALSE POSITIVES : ' + str(conf_matrix[0][1]) + '\\nFALSE NEGATIVES : ' + str(conf_matrix[1][0]) + '\\nTRUE NEGATIVES : ' + str(conf_matrix[1][1]))\n",
    "print('-'*20 + '\\nACCURACY : ' + str(np.round_(100 * (conf_matrix[0][0] + conf_matrix[1][1])/(conf_matrix[0][0] + conf_matrix[1][0] + conf_matrix[0][1] + conf_matrix[1][1]),2)) + ' %')"
   ]
  },
  {
   "cell_type": "code",
   "execution_count": 84,
   "metadata": {},
   "outputs": [
    {
     "name": "stdout",
     "output_type": "stream",
     "text": [
      "Awesome computer, definitely recommend it : 👍\t (Trust : 98.5 %)\n",
      "Do not recommend it, very slow laptop : 👎\t (Trust : 88.6 %)\n",
      "so bad : 👎\t (Trust : 52.9 %)\n"
     ]
    }
   ],
   "source": [
    "sentences = ['Awesome computer, definitely recommend it', 'Do not recommend it, very slow laptop', 'so bad']\n",
    "tokens = tokenizer.texts_to_sequences(sentences)\n",
    "padded_tokens = pad_sequences(tokens, maxlen = max_length, padding = 'post', truncating = 'post')\n",
    "\n",
    "predictions = list(np.reshape(model.predict(padded_tokens), len(sentences)))\n",
    "\n",
    "for i in range(len(sentences)):\n",
    "    if np.round(predictions[i]) == 1:\n",
    "        print(sentences[i] + ' : ' + str(emoji.emojize(':thumbs_up:') + '\\t (Trust : ' + str(np.round(100 * predictions[i],1)) + ' %)'))\n",
    "    else:\n",
    "        print(sentences[i] + ' : ' + str(emoji.emojize(':thumbs_down:') + '\\t (Trust : ' + str(np.round(100 - (100 * predictions[i]),1)) + ' %)'))\n",
    "    "
   ]
  },
  {
   "cell_type": "markdown",
   "metadata": {},
   "source": [
    "## 10 - Model parameters save "
   ]
  },
  {
   "cell_type": "code",
   "execution_count": 80,
   "metadata": {},
   "outputs": [],
   "source": [
    "model.save(\"model.h5\")"
   ]
  },
  {
   "cell_type": "markdown",
   "metadata": {},
   "source": [
    "## 11 - Saved model loading"
   ]
  },
  {
   "cell_type": "code",
   "execution_count": 81,
   "metadata": {},
   "outputs": [
    {
     "name": "stdout",
     "output_type": "stream",
     "text": [
      "WARNING:tensorflow:Error in loading the saved optimizer state. As a result, your model is starting with a freshly initialized optimizer.\n",
      "Model: \"sequential_4\"\n",
      "_________________________________________________________________\n",
      "Layer (type)                 Output Shape              Param #   \n",
      "=================================================================\n",
      "embedding_4 (Embedding)      (None, 100, 10)           100000    \n",
      "_________________________________________________________________\n",
      "dropout_8 (Dropout)          (None, 100, 10)           0         \n",
      "_________________________________________________________________\n",
      "global_average_pooling1d_4 ( (None, 10)                0         \n",
      "_________________________________________________________________\n",
      "dense_8 (Dense)              (None, 24)                264       \n",
      "_________________________________________________________________\n",
      "dropout_9 (Dropout)          (None, 24)                0         \n",
      "_________________________________________________________________\n",
      "dense_9 (Dense)              (None, 1)                 25        \n",
      "=================================================================\n",
      "Total params: 100,289\n",
      "Trainable params: 100,289\n",
      "Non-trainable params: 0\n",
      "_________________________________________________________________\n"
     ]
    }
   ],
   "source": [
    "model = load_model('model.h5')\n",
    "model.summary()"
   ]
  },
  {
   "cell_type": "code",
   "execution_count": null,
   "metadata": {},
   "outputs": [],
   "source": []
  },
  {
   "cell_type": "code",
   "execution_count": null,
   "metadata": {},
   "outputs": [],
   "source": []
  }
 ],
 "metadata": {
  "kernelspec": {
   "display_name": "Python 3",
   "language": "python",
   "name": "python3"
  },
  "language_info": {
   "codemirror_mode": {
    "name": "ipython",
    "version": 3
   },
   "file_extension": ".py",
   "mimetype": "text/x-python",
   "name": "python",
   "nbconvert_exporter": "python",
   "pygments_lexer": "ipython3",
   "version": "3.8.2"
  }
 },
 "nbformat": 4,
 "nbformat_minor": 4
}
