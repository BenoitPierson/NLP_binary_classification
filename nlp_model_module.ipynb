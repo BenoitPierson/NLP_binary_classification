{
 "cells": [
  {
   "cell_type": "markdown",
   "metadata": {},
   "source": [
    "# NLP model building"
   ]
  },
  {
   "cell_type": "markdown",
   "metadata": {},
   "source": [
    "Purpose : Building a model able to do a classification on sentences"
   ]
  },
  {
   "cell_type": "markdown",
   "metadata": {},
   "source": [
    "## 0 - Interesting links"
   ]
  },
  {
   "cell_type": "markdown",
   "metadata": {},
   "source": [
    "* https://www.youtube.com/playlist?list=PLQY2H8rRoyvzDbLUZkbudP-MFQZwNmU4S\n",
    "* https://www.youtube.com/watch?v=Y_hzMnRXjhI&list=PLQY2H8rRoyvzDbLUZkbudP-MFQZwNmU4S&index=3\n",
    "* https://machinelearningmastery.com/use-word-embedding-layers-deep-learning-keras/#:~:text=Keras%20offers%20an%20Embedding%20layer%20that%20can%20be,using%20the%20Tokenizer%20API%20also%20provided%20with%20Keras.\n",
    "* \n",
    "https://colab.research.google.com/github/lmoroney/dlaicourse/blob/master/TensorFlow%20In%20Practice/Course%203%20-%20NLP/Course%203%20-%20Week%202%20-%20Lesson%202.ipynb#scrollTo=3u8UB0MCkZ5N\n",
    "* https://towardsdatascience.com/a-practical-introduction-to-keras-callbacks-in-tensorflow-2-705d0c584966"
   ]
  },
  {
   "cell_type": "markdown",
   "metadata": {},
   "source": [
    "## 1 - Libraries import"
   ]
  },
  {
   "cell_type": "code",
   "execution_count": 328,
   "metadata": {},
   "outputs": [],
   "source": [
    "import json\n",
    "import numpy as np\n",
    "import pandas as pd\n",
    "import sklearn as sk\n",
    "import tensorflow as tf\n",
    "import matplotlib.pyplot as plt\n",
    "from sklearn.metrics import confusion_matrix\n",
    "from tensorflow.keras.models import load_model\n",
    "from tensorflow.keras.preprocessing.text import Tokenizer\n",
    "from tensorflow.keras.preprocessing.sequence import pad_sequences\n",
    "from tensorflow.keras.callbacks import EarlyStopping\n",
    "from tensorflow.keras.callbacks import CSVLogger"
   ]
  },
  {
   "cell_type": "markdown",
   "metadata": {},
   "source": [
    "## 2 - Variables definition"
   ]
  },
  {
   "cell_type": "code",
   "execution_count": 329,
   "metadata": {},
   "outputs": [],
   "source": [
    "nb_train = 20000 # Number of training examples considered\n",
    "nb_valid = 5000 # Number of validation examples considered\n",
    "vocab_size = 10000 # Number of words to be considered regarding on their frequency\n",
    "max_length = 100 # Maximum length of a sentence --> Size of entrance of neural network\n",
    "embedding_dim = 32 # Embedding dimension for vector representation of words\n",
    "nb_epochs = 30 # Number of epochs for training"
   ]
  },
  {
   "cell_type": "markdown",
   "metadata": {},
   "source": [
    "## 3 - Training JSON file reading"
   ]
  },
  {
   "cell_type": "code",
   "execution_count": 330,
   "metadata": {},
   "outputs": [],
   "source": [
    "training_examples = []\n",
    "URL = []\n",
    "X = [] # sentences\n",
    "Y = [] # sarcastic or not\n",
    "\n",
    "for line in open('sarcasm_training_dataset.json', 'r'):\n",
    "    training_examples.append(json.loads(line))\n",
    "\n",
    "for item in training_examples:\n",
    "    X.append(item['headline'])    \n",
    "    Y.append(item['is_sarcastic'])\n",
    "    URL.append(item['article_link'])"
   ]
  },
  {
   "cell_type": "markdown",
   "metadata": {},
   "source": [
    "## 4 - Training / Test dataset splitting"
   ]
  },
  {
   "cell_type": "code",
   "execution_count": 331,
   "metadata": {},
   "outputs": [],
   "source": [
    "X_train = X[0:nb_train]\n",
    "Y_train = Y[0:nb_train]\n",
    "\n",
    "X_valid = X[nb_train:nb_train + nb_valid]\n",
    "Y_valid = Y[nb_train:nb_train + nb_valid]\n",
    "\n",
    "X_test = X[nb_train + nb_valid:]\n",
    "Y_test = Y[nb_train + nb_valid:]"
   ]
  },
  {
   "cell_type": "markdown",
   "metadata": {},
   "source": [
    "## 5 - Sentences tokenization"
   ]
  },
  {
   "cell_type": "code",
   "execution_count": 332,
   "metadata": {},
   "outputs": [],
   "source": [
    "tokenizer = Tokenizer(oov_token = \"<OOV>\", num_words = vocab_size) # Strategy for considering Out Of Vocabulary words\n",
    "tokenizer.fit_on_texts(X_train) # Only considering words in training examples\n",
    "word_index = tokenizer.word_index\n",
    "\n",
    "# Pre-processing training set:\n",
    "X_train = tokenizer.texts_to_sequences(X_train)\n",
    "X_train = pad_sequences(X_train, maxlen = max_length, padding = 'post', truncating = 'post')\n",
    "\n",
    "# Pre-processing validation set:\n",
    "X_valid = tokenizer.texts_to_sequences(X_valid)\n",
    "X_valid = pad_sequences(X_valid, maxlen = max_length, padding = 'post', truncating = 'post')\n",
    "\n",
    "# Pre-processing test set:\n",
    "X_test = tokenizer.texts_to_sequences(X_test)\n",
    "X_test = pad_sequences(X_test, maxlen = max_length, padding = 'post', truncating = 'post')"
   ]
  },
  {
   "cell_type": "markdown",
   "metadata": {},
   "source": [
    "## 6 - Model architecture definition"
   ]
  },
  {
   "cell_type": "code",
   "execution_count": 333,
   "metadata": {},
   "outputs": [],
   "source": [
    "model = tensorflow.keras.Sequential([\n",
    "    tf.keras.layers.Embedding(input_dim = vocab_size, output_dim = embedding_dim, input_length = max_length),\n",
    "    tf.keras.layers.GlobalAveragePooling1D(),\n",
    "    tf.keras.layers.Dense(24, activation = 'relu'),\n",
    "    tf.keras.layers.Dense(1, activation = 'sigmoid')\n",
    "])\n",
    "\n",
    "model.compile(loss='binary_crossentropy', optimizer='adam', metrics=['accuracy'])"
   ]
  },
  {
   "cell_type": "code",
   "execution_count": 334,
   "metadata": {},
   "outputs": [
    {
     "name": "stdout",
     "output_type": "stream",
     "text": [
      "Model: \"sequential_9\"\n",
      "_________________________________________________________________\n",
      "Layer (type)                 Output Shape              Param #   \n",
      "=================================================================\n",
      "embedding_9 (Embedding)      (None, 100, 32)           320000    \n",
      "_________________________________________________________________\n",
      "global_average_pooling1d_9 ( (None, 32)                0         \n",
      "_________________________________________________________________\n",
      "dense_18 (Dense)             (None, 24)                792       \n",
      "_________________________________________________________________\n",
      "dense_19 (Dense)             (None, 1)                 25        \n",
      "=================================================================\n",
      "Total params: 320,817\n",
      "Trainable params: 320,817\n",
      "Non-trainable params: 0\n",
      "_________________________________________________________________\n"
     ]
    }
   ],
   "source": [
    "model.summary()"
   ]
  },
  {
   "cell_type": "markdown",
   "metadata": {},
   "source": [
    "## 7 - Model training"
   ]
  },
  {
   "cell_type": "code",
   "execution_count": 335,
   "metadata": {},
   "outputs": [],
   "source": [
    "callback_list = []\n",
    "\n",
    "callback_list.append(EarlyStopping(monitor = 'val_accuracy', patience = 5, min_delta = 0.0, mode = 'max')) # Callback to ensure parameters update in accordance with test accuracy improvement\n",
    "callback_list.append(CSVLogger('training_log.csv')) # Callback to get a feedback"
   ]
  },
  {
   "cell_type": "code",
   "execution_count": 336,
   "metadata": {},
   "outputs": [
    {
     "name": "stdout",
     "output_type": "stream",
     "text": [
      "Epoch 1/30\n",
      "625/625 - 5s - loss: 0.6570 - accuracy: 0.5987 - val_loss: 0.5215 - val_accuracy: 0.8074\n",
      "Epoch 2/30\n",
      "625/625 - 5s - loss: 0.3889 - accuracy: 0.8431 - val_loss: 0.3614 - val_accuracy: 0.8458\n",
      "Epoch 3/30\n",
      "625/625 - 5s - loss: 0.2862 - accuracy: 0.8849 - val_loss: 0.3388 - val_accuracy: 0.8558\n",
      "Epoch 4/30\n",
      "625/625 - 5s - loss: 0.2376 - accuracy: 0.9078 - val_loss: 0.3342 - val_accuracy: 0.8598\n",
      "Epoch 5/30\n",
      "625/625 - 5s - loss: 0.2033 - accuracy: 0.9219 - val_loss: 0.3727 - val_accuracy: 0.8400\n",
      "Epoch 6/30\n",
      "625/625 - 5s - loss: 0.1768 - accuracy: 0.9336 - val_loss: 0.3533 - val_accuracy: 0.8558\n",
      "Epoch 7/30\n",
      "625/625 - 5s - loss: 0.1548 - accuracy: 0.9433 - val_loss: 0.3791 - val_accuracy: 0.8530\n",
      "Epoch 8/30\n",
      "625/625 - 5s - loss: 0.1362 - accuracy: 0.9512 - val_loss: 0.4281 - val_accuracy: 0.8406\n",
      "Epoch 9/30\n",
      "625/625 - 5s - loss: 0.1227 - accuracy: 0.9552 - val_loss: 0.4393 - val_accuracy: 0.8446\n"
     ]
    }
   ],
   "source": [
    "X_train = np.array(X_train)\n",
    "Y_train = np.array(Y_train)\n",
    "\n",
    "X_valid = np.array(X_valid)\n",
    "Y_valid = np.array(Y_valid)\n",
    "\n",
    "X_test = np.array(X_test)\n",
    "Y_test = np.array(Y_test)\n",
    "\n",
    "history = model.fit(X_train, Y_train, epochs = nb_epochs, validation_data = (X_valid, Y_valid), verbose = 2, callbacks = callback_list)"
   ]
  },
  {
   "cell_type": "markdown",
   "metadata": {},
   "source": [
    "## 8 - Model training analysis"
   ]
  },
  {
   "cell_type": "markdown",
   "metadata": {},
   "source": [
    "### 8.1 - Accuracy & Loss plots"
   ]
  },
  {
   "cell_type": "code",
   "execution_count": 337,
   "metadata": {},
   "outputs": [
    {
     "data": {
      "image/png": "[encoded data removed]",
      "text/plain": [
       "<Figure size 432x288 with 1 Axes>"
      ]
     },
     "metadata": {
      "needs_background": "light"
     },
     "output_type": "display_data"
    },
    {
     "data": {
      "image/png": "[encoded data removed]",
      "text/plain": [
       "<Figure size 432x288 with 1 Axes>"
      ]
     },
     "metadata": {
      "needs_background": "light"
     },
     "output_type": "display_data"
    }
   ],
   "source": [
    "def plot_graphs(history, string):\n",
    "    plt.plot(history.history[string])\n",
    "    plt.plot(history.history['val_'+string])\n",
    "    plt.xlabel(\"Epochs\")\n",
    "    plt.ylabel(string)\n",
    "    plt.legend([string, 'val_'+string])\n",
    "    plt.show()\n",
    "    \n",
    "plot_graphs(history, \"accuracy\") \n",
    "plot_graphs(history, \"loss\")"
   ]
  },
  {
   "cell_type": "markdown",
   "metadata": {},
   "source": [
    "### 8.2 - Loading log file information"
   ]
  },
  {
   "cell_type": "code",
   "execution_count": 338,
   "metadata": {},
   "outputs": [
    {
     "data": {
      "text/html": [
       "<div>\n",
       "<style scoped>\n",
       "    .dataframe tbody tr th:only-of-type {\n",
       "        vertical-align: middle;\n",
       "    }\n",
       "\n",
       "    .dataframe tbody tr th {\n",
       "        vertical-align: top;\n",
       "    }\n",
       "\n",
       "    .dataframe thead th {\n",
       "        text-align: right;\n",
       "    }\n",
       "</style>\n",
       "<table border=\"1\" class=\"dataframe\">\n",
       "  <thead>\n",
       "    <tr style=\"text-align: right;\">\n",
       "      <th></th>\n",
       "      <th>epoch</th>\n",
       "      <th>accuracy</th>\n",
       "      <th>loss</th>\n",
       "      <th>val_accuracy</th>\n",
       "      <th>val_loss</th>\n",
       "    </tr>\n",
       "  </thead>\n",
       "  <tbody>\n",
       "    <tr>\n",
       "      <th>0</th>\n",
       "      <td>0</td>\n",
       "      <td>0.59870</td>\n",
       "      <td>0.656978</td>\n",
       "      <td>0.8074</td>\n",
       "      <td>0.521510</td>\n",
       "    </tr>\n",
       "    <tr>\n",
       "      <th>1</th>\n",
       "      <td>1</td>\n",
       "      <td>0.84310</td>\n",
       "      <td>0.388864</td>\n",
       "      <td>0.8458</td>\n",
       "      <td>0.361443</td>\n",
       "    </tr>\n",
       "    <tr>\n",
       "      <th>2</th>\n",
       "      <td>2</td>\n",
       "      <td>0.88490</td>\n",
       "      <td>0.286197</td>\n",
       "      <td>0.8558</td>\n",
       "      <td>0.338843</td>\n",
       "    </tr>\n",
       "    <tr>\n",
       "      <th>3</th>\n",
       "      <td>3</td>\n",
       "      <td>0.90780</td>\n",
       "      <td>0.237551</td>\n",
       "      <td>0.8598</td>\n",
       "      <td>0.334229</td>\n",
       "    </tr>\n",
       "    <tr>\n",
       "      <th>4</th>\n",
       "      <td>4</td>\n",
       "      <td>0.92185</td>\n",
       "      <td>0.203314</td>\n",
       "      <td>0.8400</td>\n",
       "      <td>0.372653</td>\n",
       "    </tr>\n",
       "    <tr>\n",
       "      <th>5</th>\n",
       "      <td>5</td>\n",
       "      <td>0.93355</td>\n",
       "      <td>0.176788</td>\n",
       "      <td>0.8558</td>\n",
       "      <td>0.353335</td>\n",
       "    </tr>\n",
       "    <tr>\n",
       "      <th>6</th>\n",
       "      <td>6</td>\n",
       "      <td>0.94330</td>\n",
       "      <td>0.154753</td>\n",
       "      <td>0.8530</td>\n",
       "      <td>0.379060</td>\n",
       "    </tr>\n",
       "    <tr>\n",
       "      <th>7</th>\n",
       "      <td>7</td>\n",
       "      <td>0.95120</td>\n",
       "      <td>0.136173</td>\n",
       "      <td>0.8406</td>\n",
       "      <td>0.428125</td>\n",
       "    </tr>\n",
       "    <tr>\n",
       "      <th>8</th>\n",
       "      <td>8</td>\n",
       "      <td>0.95515</td>\n",
       "      <td>0.122733</td>\n",
       "      <td>0.8446</td>\n",
       "      <td>0.439263</td>\n",
       "    </tr>\n",
       "  </tbody>\n",
       "</table>\n",
       "</div>"
      ],
      "text/plain": [
       "   epoch  accuracy      loss  val_accuracy  val_loss\n",
       "0      0   0.59870  0.656978        0.8074  0.521510\n",
       "1      1   0.84310  0.388864        0.8458  0.361443\n",
       "2      2   0.88490  0.286197        0.8558  0.338843\n",
       "3      3   0.90780  0.237551        0.8598  0.334229\n",
       "4      4   0.92185  0.203314        0.8400  0.372653\n",
       "5      5   0.93355  0.176788        0.8558  0.353335\n",
       "6      6   0.94330  0.154753        0.8530  0.379060\n",
       "7      7   0.95120  0.136173        0.8406  0.428125\n",
       "8      8   0.95515  0.122733        0.8446  0.439263"
      ]
     },
     "execution_count": 338,
     "metadata": {},
     "output_type": "execute_result"
    }
   ],
   "source": [
    "df_log = pd.read_csv('training_log.csv')\n",
    "df_log"
   ]
  },
  {
   "cell_type": "markdown",
   "metadata": {},
   "source": [
    "## 9 - Predictions on test set & new sentences"
   ]
  },
  {
   "cell_type": "code",
   "execution_count": 339,
   "metadata": {},
   "outputs": [
    {
     "name": "stdout",
     "output_type": "stream",
     "text": [
      "CONFUSION MATRIX\n",
      "====================\n",
      "TRUE POSITIVES : 776\n",
      "FALSE POSITIVES : 113\n",
      "FALSE NEGATIVES : 187\n",
      "TRUE NEGATIVES : 633\n",
      "--------------------\n",
      "ACCURACY : 82.45 %\n"
     ]
    }
   ],
   "source": [
    "Y_test_prediction = np.round_(model.predict(X_test)[:,0])\n",
    "conf_matrix = confusion_matrix(Y_test_prediction, Y_test)\n",
    "\n",
    "print('CONFUSION MATRIX' + '\\n' + '='*20)\n",
    "print('TRUE POSITIVES : ' + str(conf_matrix[0][0]) + '\\nFALSE POSITIVES : ' + str(conf_matrix[0][1]) + '\\nFALSE NEGATIVES : ' + str(conf_matrix[1][0]) + '\\nTRUE NEGATIVES : ' + str(conf_matrix[1][1]))\n",
    "print('-'*20 + '\\nACCURACY : ' + str(np.round_(100 * (conf_matrix[0][0] + conf_matrix[1][1])/(conf_matrix[0][0] + conf_matrix[1][0] + conf_matrix[0][1] + conf_matrix[1][1]),2)) + ' %')"
   ]
  },
  {
   "cell_type": "code",
   "execution_count": 340,
   "metadata": {},
   "outputs": [
    {
     "name": "stdout",
     "output_type": "stream",
     "text": [
      "[[1.]]\n"
     ]
    }
   ],
   "source": [
    "sentence = [\"granny starting to fear spiders in the garden might be real\"]\n",
    "sequence = tokenizer.texts_to_sequences(sentence)\n",
    "sentence = pad_sequences(sequence, maxlen = max_length, padding = 'post', truncating = 'post')\n",
    "\n",
    "print(np.round_(model.predict(sentence)))"
   ]
  },
  {
   "cell_type": "markdown",
   "metadata": {},
   "source": [
    "## 10 - Model parameters save "
   ]
  },
  {
   "cell_type": "code",
   "execution_count": 347,
   "metadata": {},
   "outputs": [],
   "source": [
    "model.save(\"model.h5\")"
   ]
  },
  {
   "cell_type": "markdown",
   "metadata": {},
   "source": [
    "## 11 - Saved model loading"
   ]
  },
  {
   "cell_type": "code",
   "execution_count": 348,
   "metadata": {},
   "outputs": [
    {
     "name": "stdout",
     "output_type": "stream",
     "text": [
      "Model: \"sequential_9\"\n",
      "_________________________________________________________________\n",
      "Layer (type)                 Output Shape              Param #   \n",
      "=================================================================\n",
      "embedding_9 (Embedding)      (None, 100, 32)           320000    \n",
      "_________________________________________________________________\n",
      "global_average_pooling1d_9 ( (None, 32)                0         \n",
      "_________________________________________________________________\n",
      "dense_18 (Dense)             (None, 24)                792       \n",
      "_________________________________________________________________\n",
      "dense_19 (Dense)             (None, 1)                 25        \n",
      "=================================================================\n",
      "Total params: 320,817\n",
      "Trainable params: 320,817\n",
      "Non-trainable params: 0\n",
      "_________________________________________________________________\n"
     ]
    }
   ],
   "source": [
    "model = load_model('model.h5')\n",
    "model.summary()"
   ]
  },
  {
   "cell_type": "code",
   "execution_count": null,
   "metadata": {},
   "outputs": [],
   "source": []
  }
 ],
 "metadata": {
  "kernelspec": {
   "display_name": "Python 3",
   "language": "python",
   "name": "python3"
  },
  "language_info": {
   "codemirror_mode": {
    "name": "ipython",
    "version": 3
   },
   "file_extension": ".py",
   "mimetype": "text/x-python",
   "name": "python",
   "nbconvert_exporter": "python",
   "pygments_lexer": "ipython3",
   "version": "3.8.2"
  }
 },
 "nbformat": 4,
 "nbformat_minor": 4
}
