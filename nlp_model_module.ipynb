{
 "cells": [
  {
   "cell_type": "markdown",
   "metadata": {},
   "source": [
    "# NLP model building"
   ]
  },
  {
   "cell_type": "markdown",
   "metadata": {},
   "source": [
    "Purpose : Building a model able to do a classification on sentences"
   ]
  },
  {
   "cell_type": "markdown",
   "metadata": {},
   "source": [
    "## 0 - Interesting links"
   ]
  },
  {
   "cell_type": "markdown",
   "metadata": {},
   "source": [
    "* https://www.youtube.com/playlist?list=PLQY2H8rRoyvzDbLUZkbudP-MFQZwNmU4S\n",
    "* https://www.youtube.com/watch?v=Y_hzMnRXjhI&list=PLQY2H8rRoyvzDbLUZkbudP-MFQZwNmU4S&index=3\n",
    "* https://machinelearningmastery.com/use-word-embedding-layers-deep-learning-keras/#:~:text=Keras%20offers%20an%20Embedding%20layer%20that%20can%20be,using%20the%20Tokenizer%20API%20also%20provided%20with%20Keras.\n",
    "* \n",
    "https://colab.research.google.com/github/lmoroney/dlaicourse/blob/master/TensorFlow%20In%20Practice/Course%203%20-%20NLP/Course%203%20-%20Week%202%20-%20Lesson%202.ipynb#scrollTo=3u8UB0MCkZ5N\n",
    "* https://towardsdatascience.com/a-practical-introduction-to-keras-callbacks-in-tensorflow-2-705d0c584966"
   ]
  },
  {
   "cell_type": "markdown",
   "metadata": {},
   "source": [
    "## 1 - Libraries import"
   ]
  },
  {
   "cell_type": "code",
   "execution_count": 1,
   "metadata": {},
   "outputs": [],
   "source": [
    "import json\n",
    "import random\n",
    "import emojis\n",
    "import emoji\n",
    "import numpy as np\n",
    "import pandas as pd\n",
    "import sklearn as sk\n",
    "import tensorflow as tf\n",
    "import matplotlib.pyplot as plt\n",
    "from sklearn.metrics import confusion_matrix\n",
    "from tensorflow.keras.models import load_model\n",
    "from tensorflow.keras.preprocessing.text import Tokenizer\n",
    "from tensorflow.keras.preprocessing.sequence import pad_sequences\n",
    "from tensorflow.keras.callbacks import EarlyStopping\n",
    "from tensorflow.keras.callbacks import CSVLogger"
   ]
  },
  {
   "cell_type": "markdown",
   "metadata": {},
   "source": [
    "## 2 - Variables definition"
   ]
  },
  {
   "cell_type": "code",
   "execution_count": 2,
   "metadata": {},
   "outputs": [],
   "source": [
    "nb_train = 7000 # Number of training examples considered\n",
    "nb_valid = 1500 # Number of validation examples considered\n",
    "vocab_size = 10000 # Number of words to be considered regarding on their frequency\n",
    "max_length = 100 # Maximum length of a sentence --> Size of entrance of neural network\n",
    "embedding_dim = 10 # Embedding dimension for vector representation of words\n",
    "nb_epochs = 40 # Number of epochs for training\n",
    "batch_size = 128 # Number of training examples considered in mini batches during training"
   ]
  },
  {
   "cell_type": "markdown",
   "metadata": {},
   "source": [
    "## 3 - Training JSON file reading"
   ]
  },
  {
   "cell_type": "code",
   "execution_count": 3,
   "metadata": {},
   "outputs": [],
   "source": [
    "training_examples = []\n",
    "URL = []\n",
    "X = [] # sentences\n",
    "Y = [] # positive or not\n",
    "\n",
    "for line in open('review_amazon_ordinateurportable02_November_2020.json', 'r'):\n",
    "    training_examples.append(json.loads(line))\n",
    "\n",
    "training_examples = training_examples[0]\n",
    "\n",
    "for item in training_examples:\n",
    "    X.append(item['review'])    \n",
    "    Y.append(item['positive'])"
   ]
  },
  {
   "cell_type": "code",
   "execution_count": 4,
   "metadata": {
    "scrolled": true
   },
   "outputs": [
    {
     "name": "stdout",
     "output_type": "stream",
     "text": [
      "POSITIVE COMMENTS : \n",
      "------------------------------------------------------------------------------------------------------------------------\n",
      "  6300 hundred processor is few generation old,  It should be priced 350 or 399 : 👍\n",
      "  I ordered this yesterday and got it within 24 hours, I love it : 👍\n",
      "  I bought this to replace a 2012 Mac Mini in our kitchen,It was over $500 - I wish it was a little cheaper, maybe $400, but at least it should last me 5+ years if nothing dies and I can easily use it with a TV if I want to change my use case : 👍\n",
      "  So easy to use compared to Window  PC, I wanted to replace my All in one PC and the Chromebox with a monitor and speakers did the Job : 👍\n",
      "  I bought this to play GeForce Now on since my old computer can't handle it, I recommend to anyone looking to PC game but don't wanna drop $1000 on a gaming rig : 👍\n",
      "  Many more attachments can be used, I have a couple of extra monitors that work well with this : 👍\n",
      "  Bought this for my son to use for school (since he will be going virtual schooling this year) and very easy set up, works just like a chrome book but as a small computer tower can attach it to back of a tv if you want to take up even less room (we did not do this) : 👍\n",
      "\n",
      "========================================================================================================================\n",
      "\n",
      "NEGATIVE COMMENTS : \n",
      "------------------------------------------------------------------------------------------------------------------------\n",
      "  Product DOA, What is the use of of a computer that does not boot up : 👎\n",
      "  did not last 1 year, hardware failure, : 👎\n",
      "  Item faulty, Doesn`t work : 👎\n"
     ]
    }
   ],
   "source": [
    "print(\"POSITIVE COMMENTS : \\n\" + \"-\"*120)\n",
    "for i in range(10):\n",
    "    if Y[i] == 1:\n",
    "        print(X[i] + ' : ' + emoji.emojize(':thumbs_up:'))\n",
    "        \n",
    "    \n",
    "print('\\n' + '='*120 + '\\n')\n",
    "\n",
    "print(\"NEGATIVE COMMENTS : \\n\" + \"-\"*120)\n",
    "for i in range(10):\n",
    "    if Y[i] == 0:\n",
    "        print(X[i] + ' : ' + emoji.emojize(':thumbs_down:'))"
   ]
  },
  {
   "cell_type": "markdown",
   "metadata": {},
   "source": [
    "## 4 - Training / Test dataset splitting"
   ]
  },
  {
   "cell_type": "code",
   "execution_count": 5,
   "metadata": {},
   "outputs": [],
   "source": [
    "training_examples = list(zip(X, Y))\n",
    "random.shuffle(training_examples)\n",
    "X, Y = zip(*training_examples)\n",
    "\n",
    "X_train = list(X[0:nb_train])\n",
    "Y_train = list(Y[0:nb_train])\n",
    "\n",
    "X_valid = list(X[nb_train:nb_train + nb_valid])\n",
    "Y_valid = list(Y[nb_train:nb_train + nb_valid])\n",
    "\n",
    "X_test = list(X[nb_train + nb_valid:])\n",
    "Y_test = list(Y[nb_train + nb_valid:])"
   ]
  },
  {
   "cell_type": "markdown",
   "metadata": {},
   "source": [
    "## 5 - Sentences tokenization"
   ]
  },
  {
   "cell_type": "code",
   "execution_count": 6,
   "metadata": {},
   "outputs": [],
   "source": [
    "tokenizer = Tokenizer(oov_token = \"<OOV>\", num_words = vocab_size) # Strategy for considering Out Of Vocabulary words\n",
    "tokenizer.fit_on_texts(X_train) # Only considering words in training examples\n",
    "word_index = tokenizer.word_index\n",
    "\n",
    "# Pre-processing training set:\n",
    "X_train = tokenizer.texts_to_sequences(X_train)\n",
    "X_train = pad_sequences(X_train, maxlen = max_length, padding = 'post', truncating = 'post')\n",
    "\n",
    "# Pre-processing validation set:\n",
    "X_valid = tokenizer.texts_to_sequences(X_valid)\n",
    "X_valid = pad_sequences(X_valid, maxlen = max_length, padding = 'post', truncating = 'post')\n",
    "\n",
    "# Pre-processing test set:\n",
    "X_test = tokenizer.texts_to_sequences(X_test)\n",
    "X_test = pad_sequences(X_test, maxlen = max_length, padding = 'post', truncating = 'post')"
   ]
  },
  {
   "cell_type": "markdown",
   "metadata": {},
   "source": [
    "## 6 - Model architecture definition"
   ]
  },
  {
   "cell_type": "code",
   "execution_count": 7,
   "metadata": {},
   "outputs": [],
   "source": [
    "model = tf.keras.Sequential([\n",
    "    tf.keras.layers.Embedding(input_dim = vocab_size, output_dim = embedding_dim, input_length = max_length),\n",
    "    tf.keras.layers.Dropout(0.45),\n",
    "    tf.keras.layers.GlobalAveragePooling1D(),\n",
    "    tf.keras.layers.Dense(24, activation = 'relu'),\n",
    "    tf.keras.layers.Dropout(0.45),\n",
    "    tf.keras.layers.Dense(1, activation = 'sigmoid')\n",
    "])\n",
    "\n",
    "model.compile(loss='binary_crossentropy', optimizer='adam', metrics=['accuracy'])"
   ]
  },
  {
   "cell_type": "code",
   "execution_count": 8,
   "metadata": {},
   "outputs": [
    {
     "name": "stdout",
     "output_type": "stream",
     "text": [
      "Model: \"sequential\"\n",
      "_________________________________________________________________\n",
      "Layer (type)                 Output Shape              Param #   \n",
      "=================================================================\n",
      "embedding (Embedding)        (None, 100, 10)           100000    \n",
      "_________________________________________________________________\n",
      "dropout (Dropout)            (None, 100, 10)           0         \n",
      "_________________________________________________________________\n",
      "global_average_pooling1d (Gl (None, 10)                0         \n",
      "_________________________________________________________________\n",
      "dense (Dense)                (None, 24)                264       \n",
      "_________________________________________________________________\n",
      "dropout_1 (Dropout)          (None, 24)                0         \n",
      "_________________________________________________________________\n",
      "dense_1 (Dense)              (None, 1)                 25        \n",
      "=================================================================\n",
      "Total params: 100,289\n",
      "Trainable params: 100,289\n",
      "Non-trainable params: 0\n",
      "_________________________________________________________________\n"
     ]
    }
   ],
   "source": [
    "model.summary()"
   ]
  },
  {
   "cell_type": "markdown",
   "metadata": {},
   "source": [
    "## 7 - Model training"
   ]
  },
  {
   "cell_type": "code",
   "execution_count": 9,
   "metadata": {},
   "outputs": [],
   "source": [
    "callback_list = []\n",
    "\n",
    "callback_list.append(EarlyStopping(monitor = 'val_loss', patience = 10, min_delta = 0.0, mode = 'min')) # Callback to ensure parameters update in accordance with test accuracy improvement\n",
    "callback_list.append(CSVLogger('training_log.csv')) # Callback to get a feedback"
   ]
  },
  {
   "cell_type": "code",
   "execution_count": 10,
   "metadata": {},
   "outputs": [
    {
     "name": "stdout",
     "output_type": "stream",
     "text": [
      "Epoch 1/40\n",
      "219/219 - 1s - loss: 0.6776 - accuracy: 0.5959 - val_loss: 0.6751 - val_accuracy: 0.5880\n",
      "Epoch 2/40\n",
      "219/219 - 1s - loss: 0.6694 - accuracy: 0.5974 - val_loss: 0.6693 - val_accuracy: 0.5880\n",
      "Epoch 3/40\n",
      "219/219 - 1s - loss: 0.6489 - accuracy: 0.6020 - val_loss: 0.6358 - val_accuracy: 0.5947\n",
      "Epoch 4/40\n",
      "219/219 - 1s - loss: 0.5844 - accuracy: 0.6914 - val_loss: 0.5701 - val_accuracy: 0.6840\n",
      "Epoch 5/40\n",
      "219/219 - 1s - loss: 0.5101 - accuracy: 0.7676 - val_loss: 0.5152 - val_accuracy: 0.7600\n",
      "Epoch 6/40\n",
      "219/219 - 1s - loss: 0.4605 - accuracy: 0.7976 - val_loss: 0.4956 - val_accuracy: 0.7520\n",
      "Epoch 7/40\n",
      "219/219 - 1s - loss: 0.4228 - accuracy: 0.8231 - val_loss: 0.4772 - val_accuracy: 0.7773\n",
      "Epoch 8/40\n",
      "219/219 - 1s - loss: 0.3973 - accuracy: 0.8309 - val_loss: 0.4785 - val_accuracy: 0.7653\n",
      "Epoch 9/40\n",
      "219/219 - 1s - loss: 0.3749 - accuracy: 0.8446 - val_loss: 0.4692 - val_accuracy: 0.7940\n",
      "Epoch 10/40\n",
      "219/219 - 1s - loss: 0.3554 - accuracy: 0.8586 - val_loss: 0.4872 - val_accuracy: 0.7620\n",
      "Epoch 11/40\n",
      "219/219 - 1s - loss: 0.3394 - accuracy: 0.8666 - val_loss: 0.5175 - val_accuracy: 0.7547\n",
      "Epoch 12/40\n",
      "219/219 - 1s - loss: 0.3228 - accuracy: 0.8776 - val_loss: 0.4859 - val_accuracy: 0.7780\n",
      "Epoch 13/40\n",
      "219/219 - 1s - loss: 0.3087 - accuracy: 0.8840 - val_loss: 0.4809 - val_accuracy: 0.7867\n",
      "Epoch 14/40\n",
      "219/219 - 1s - loss: 0.2903 - accuracy: 0.8906 - val_loss: 0.4962 - val_accuracy: 0.7860\n",
      "Epoch 15/40\n",
      "219/219 - 1s - loss: 0.2782 - accuracy: 0.8957 - val_loss: 0.5022 - val_accuracy: 0.7887\n",
      "Epoch 16/40\n",
      "219/219 - 1s - loss: 0.2664 - accuracy: 0.9063 - val_loss: 0.5179 - val_accuracy: 0.7860\n",
      "Epoch 17/40\n",
      "219/219 - 1s - loss: 0.2560 - accuracy: 0.9079 - val_loss: 0.5152 - val_accuracy: 0.7833\n",
      "Epoch 18/40\n",
      "219/219 - 1s - loss: 0.2535 - accuracy: 0.9090 - val_loss: 0.5296 - val_accuracy: 0.7813\n",
      "Epoch 19/40\n",
      "219/219 - 1s - loss: 0.2356 - accuracy: 0.9207 - val_loss: 0.5302 - val_accuracy: 0.7833\n"
     ]
    }
   ],
   "source": [
    "X_train = np.array(X_train)\n",
    "Y_train = np.array(Y_train)\n",
    "\n",
    "X_valid = np.array(X_valid)\n",
    "Y_valid = np.array(Y_valid)\n",
    "\n",
    "X_test = np.array(X_test)\n",
    "Y_test = np.array(Y_test)\n",
    "\n",
    "history = model.fit(X_train, Y_train, epochs = nb_epochs, mini_batch = batch_size, validation_data = (X_valid, Y_valid), verbose = 2, callbacks = callback_list)"
   ]
  },
  {
   "cell_type": "markdown",
   "metadata": {},
   "source": [
    "## 8 - Model training analysis"
   ]
  },
  {
   "cell_type": "markdown",
   "metadata": {},
   "source": [
    "### 8.1 - Accuracy & Loss plots"
   ]
  },
  {
   "cell_type": "code",
   "execution_count": 14,
   "metadata": {},
   "outputs": [
    {
     "data": {
      "image/png": "[encoded data removed]",
      "text/plain": [
       "<Figure size 432x288 with 1 Axes>"
      ]
     },
     "metadata": {
      "needs_background": "light"
     },
     "output_type": "display_data"
    },
    {
     "data": {
      "image/png": "[encoded data removed]",
      "text/plain": [
       "<Figure size 432x288 with 1 Axes>"
      ]
     },
     "metadata": {
      "needs_background": "light"
     },
     "output_type": "display_data"
    }
   ],
   "source": [
    "def plot_graphs(history, string):\n",
    "    plt.plot(history.history[string])\n",
    "    plt.plot(history.history['val_'+string])\n",
    "    plt.xlabel(\"Epochs\")\n",
    "    plt.ylabel(string)\n",
    "    plt.legend([string, 'val_'+string])\n",
    "    plt.show()\n",
    "    \n",
    "plot_graphs(history, \"accuracy\") \n",
    "plot_graphs(history, \"loss\")"
   ]
  },
  {
   "cell_type": "markdown",
   "metadata": {},
   "source": [
    "### 8.2 - Loading log file information"
   ]
  },
  {
   "cell_type": "code",
   "execution_count": 15,
   "metadata": {},
   "outputs": [
    {
     "data": {
      "text/html": [
       "<div>\n",
       "<style scoped>\n",
       "    .dataframe tbody tr th:only-of-type {\n",
       "        vertical-align: middle;\n",
       "    }\n",
       "\n",
       "    .dataframe tbody tr th {\n",
       "        vertical-align: top;\n",
       "    }\n",
       "\n",
       "    .dataframe thead th {\n",
       "        text-align: right;\n",
       "    }\n",
       "</style>\n",
       "<table border=\"1\" class=\"dataframe\">\n",
       "  <thead>\n",
       "    <tr style=\"text-align: right;\">\n",
       "      <th></th>\n",
       "      <th>epoch</th>\n",
       "      <th>accuracy</th>\n",
       "      <th>loss</th>\n",
       "      <th>val_accuracy</th>\n",
       "      <th>val_loss</th>\n",
       "    </tr>\n",
       "  </thead>\n",
       "  <tbody>\n",
       "    <tr>\n",
       "      <th>0</th>\n",
       "      <td>0</td>\n",
       "      <td>0.595857</td>\n",
       "      <td>0.677625</td>\n",
       "      <td>0.588000</td>\n",
       "      <td>0.675125</td>\n",
       "    </tr>\n",
       "    <tr>\n",
       "      <th>1</th>\n",
       "      <td>1</td>\n",
       "      <td>0.597429</td>\n",
       "      <td>0.669415</td>\n",
       "      <td>0.588000</td>\n",
       "      <td>0.669278</td>\n",
       "    </tr>\n",
       "    <tr>\n",
       "      <th>2</th>\n",
       "      <td>2</td>\n",
       "      <td>0.602000</td>\n",
       "      <td>0.648881</td>\n",
       "      <td>0.594667</td>\n",
       "      <td>0.635810</td>\n",
       "    </tr>\n",
       "    <tr>\n",
       "      <th>3</th>\n",
       "      <td>3</td>\n",
       "      <td>0.691429</td>\n",
       "      <td>0.584441</td>\n",
       "      <td>0.684000</td>\n",
       "      <td>0.570068</td>\n",
       "    </tr>\n",
       "    <tr>\n",
       "      <th>4</th>\n",
       "      <td>4</td>\n",
       "      <td>0.767571</td>\n",
       "      <td>0.510125</td>\n",
       "      <td>0.760000</td>\n",
       "      <td>0.515228</td>\n",
       "    </tr>\n",
       "    <tr>\n",
       "      <th>5</th>\n",
       "      <td>5</td>\n",
       "      <td>0.797571</td>\n",
       "      <td>0.460451</td>\n",
       "      <td>0.752000</td>\n",
       "      <td>0.495563</td>\n",
       "    </tr>\n",
       "    <tr>\n",
       "      <th>6</th>\n",
       "      <td>6</td>\n",
       "      <td>0.823143</td>\n",
       "      <td>0.422810</td>\n",
       "      <td>0.777333</td>\n",
       "      <td>0.477163</td>\n",
       "    </tr>\n",
       "    <tr>\n",
       "      <th>7</th>\n",
       "      <td>7</td>\n",
       "      <td>0.830857</td>\n",
       "      <td>0.397327</td>\n",
       "      <td>0.765333</td>\n",
       "      <td>0.478501</td>\n",
       "    </tr>\n",
       "    <tr>\n",
       "      <th>8</th>\n",
       "      <td>8</td>\n",
       "      <td>0.844571</td>\n",
       "      <td>0.374921</td>\n",
       "      <td>0.794000</td>\n",
       "      <td>0.469175</td>\n",
       "    </tr>\n",
       "    <tr>\n",
       "      <th>9</th>\n",
       "      <td>9</td>\n",
       "      <td>0.858571</td>\n",
       "      <td>0.355372</td>\n",
       "      <td>0.762000</td>\n",
       "      <td>0.487200</td>\n",
       "    </tr>\n",
       "    <tr>\n",
       "      <th>10</th>\n",
       "      <td>10</td>\n",
       "      <td>0.866571</td>\n",
       "      <td>0.339384</td>\n",
       "      <td>0.754667</td>\n",
       "      <td>0.517530</td>\n",
       "    </tr>\n",
       "    <tr>\n",
       "      <th>11</th>\n",
       "      <td>11</td>\n",
       "      <td>0.877571</td>\n",
       "      <td>0.322778</td>\n",
       "      <td>0.778000</td>\n",
       "      <td>0.485939</td>\n",
       "    </tr>\n",
       "    <tr>\n",
       "      <th>12</th>\n",
       "      <td>12</td>\n",
       "      <td>0.884000</td>\n",
       "      <td>0.308672</td>\n",
       "      <td>0.786667</td>\n",
       "      <td>0.480853</td>\n",
       "    </tr>\n",
       "    <tr>\n",
       "      <th>13</th>\n",
       "      <td>13</td>\n",
       "      <td>0.890571</td>\n",
       "      <td>0.290276</td>\n",
       "      <td>0.786000</td>\n",
       "      <td>0.496167</td>\n",
       "    </tr>\n",
       "    <tr>\n",
       "      <th>14</th>\n",
       "      <td>14</td>\n",
       "      <td>0.895714</td>\n",
       "      <td>0.278178</td>\n",
       "      <td>0.788667</td>\n",
       "      <td>0.502232</td>\n",
       "    </tr>\n",
       "    <tr>\n",
       "      <th>15</th>\n",
       "      <td>15</td>\n",
       "      <td>0.906286</td>\n",
       "      <td>0.266370</td>\n",
       "      <td>0.786000</td>\n",
       "      <td>0.517914</td>\n",
       "    </tr>\n",
       "    <tr>\n",
       "      <th>16</th>\n",
       "      <td>16</td>\n",
       "      <td>0.907857</td>\n",
       "      <td>0.255980</td>\n",
       "      <td>0.783333</td>\n",
       "      <td>0.515237</td>\n",
       "    </tr>\n",
       "    <tr>\n",
       "      <th>17</th>\n",
       "      <td>17</td>\n",
       "      <td>0.909000</td>\n",
       "      <td>0.253508</td>\n",
       "      <td>0.781333</td>\n",
       "      <td>0.529638</td>\n",
       "    </tr>\n",
       "    <tr>\n",
       "      <th>18</th>\n",
       "      <td>18</td>\n",
       "      <td>0.920714</td>\n",
       "      <td>0.235614</td>\n",
       "      <td>0.783333</td>\n",
       "      <td>0.530174</td>\n",
       "    </tr>\n",
       "  </tbody>\n",
       "</table>\n",
       "</div>"
      ],
      "text/plain": [
       "    epoch  accuracy      loss  val_accuracy  val_loss\n",
       "0       0  0.595857  0.677625      0.588000  0.675125\n",
       "1       1  0.597429  0.669415      0.588000  0.669278\n",
       "2       2  0.602000  0.648881      0.594667  0.635810\n",
       "3       3  0.691429  0.584441      0.684000  0.570068\n",
       "4       4  0.767571  0.510125      0.760000  0.515228\n",
       "5       5  0.797571  0.460451      0.752000  0.495563\n",
       "6       6  0.823143  0.422810      0.777333  0.477163\n",
       "7       7  0.830857  0.397327      0.765333  0.478501\n",
       "8       8  0.844571  0.374921      0.794000  0.469175\n",
       "9       9  0.858571  0.355372      0.762000  0.487200\n",
       "10     10  0.866571  0.339384      0.754667  0.517530\n",
       "11     11  0.877571  0.322778      0.778000  0.485939\n",
       "12     12  0.884000  0.308672      0.786667  0.480853\n",
       "13     13  0.890571  0.290276      0.786000  0.496167\n",
       "14     14  0.895714  0.278178      0.788667  0.502232\n",
       "15     15  0.906286  0.266370      0.786000  0.517914\n",
       "16     16  0.907857  0.255980      0.783333  0.515237\n",
       "17     17  0.909000  0.253508      0.781333  0.529638\n",
       "18     18  0.920714  0.235614      0.783333  0.530174"
      ]
     },
     "execution_count": 15,
     "metadata": {},
     "output_type": "execute_result"
    }
   ],
   "source": [
    "df_log = pd.read_csv('training_log.csv')\n",
    "df_log"
   ]
  },
  {
   "cell_type": "markdown",
   "metadata": {},
   "source": [
    "## 9 - Predictions on test set & new sentences"
   ]
  },
  {
   "cell_type": "code",
   "execution_count": 16,
   "metadata": {},
   "outputs": [
    {
     "name": "stdout",
     "output_type": "stream",
     "text": [
      "CONFUSION MATRIX\n",
      "====================\n",
      "TRUE POSITIVES : 147\n",
      "FALSE POSITIVES : 57\n",
      "FALSE NEGATIVES : 60\n",
      "TRUE NEGATIVES : 245\n",
      "--------------------\n",
      "ACCURACY : 77.01 %\n"
     ]
    }
   ],
   "source": [
    "Y_test_prediction = np.round_(model.predict(X_test)[:,0])\n",
    "conf_matrix = confusion_matrix(Y_test_prediction, Y_test)\n",
    "\n",
    "print('CONFUSION MATRIX' + '\\n' + '='*20)\n",
    "print('TRUE POSITIVES : ' + str(conf_matrix[0][0]) + '\\nFALSE POSITIVES : ' + str(conf_matrix[0][1]) + '\\nFALSE NEGATIVES : ' + str(conf_matrix[1][0]) + '\\nTRUE NEGATIVES : ' + str(conf_matrix[1][1]))\n",
    "print('-'*20 + '\\nACCURACY : ' + str(np.round_(100 * (conf_matrix[0][0] + conf_matrix[1][1])/(conf_matrix[0][0] + conf_matrix[1][0] + conf_matrix[0][1] + conf_matrix[1][1]),2)) + ' %')"
   ]
  },
  {
   "cell_type": "code",
   "execution_count": 20,
   "metadata": {},
   "outputs": [
    {
     "name": "stdout",
     "output_type": "stream",
     "text": [
      "[ 63  17  69   4  23 177  13   0   0   0   0   0   0   0   0   0   0   0\n",
      "   0   0   0   0   0   0   0   0   0   0   0   0   0   0   0   0   0   0\n",
      "   0   0   0   0   0   0   0   0   0   0   0   0   0   0   0   0   0   0\n",
      "   0   0   0   0   0   0   0   0   0   0   0   0   0   0   0   0   0   0\n",
      "   0   0   0   0   0   0   0   0   0   0   0   0   0   0   0   0   0   0\n",
      "   0   0   0   0   0   0   0   0   0   0]\n",
      "Awesome computer, definitely recommend it : 👍\t (Trust : 95.5 %)\n",
      "Do not recommend it, very slow laptop : 👎\t (Trust : 91.4 %)\n",
      "Do recommend it, not very slow laptop : 👎\t (Trust : 91.4 %)\n",
      "so bad : 👎\t (Trust : 75.3 %)\n"
     ]
    }
   ],
   "source": [
    "sentences = ['Awesome computer, definitely recommend it', 'Do not recommend it, very slow laptop', 'Do recommend it, not very slow laptop', 'so bad']\n",
    "tokens = tokenizer.texts_to_sequences(sentences)\n",
    "padded_tokens = pad_sequences(tokens, maxlen = max_length, padding = 'post', truncating = 'post')\n",
    "print(padded_tokens[1])\n",
    "predictions = list(np.reshape(model.predict(padded_tokens), len(sentences)))\n",
    "\n",
    "for i in range(len(sentences)):\n",
    "    if np.round(predictions[i]) == 1:\n",
    "        print(sentences[i] + ' : ' + str(emoji.emojize(':thumbs_up:') + '\\t (Trust : ' + str(np.round(100 * predictions[i],1)) + ' %)'))\n",
    "    else:\n",
    "        print(sentences[i] + ' : ' + str(emoji.emojize(':thumbs_down:') + '\\t (Trust : ' + str(np.round(100 - (100 * predictions[i]),1)) + ' %)'))\n",
    "    "
   ]
  },
  {
   "cell_type": "code",
   "execution_count": 20,
   "metadata": {},
   "outputs": [
    {
     "name": "stdout",
     "output_type": "stream",
     "text": [
      "not good, bad : 👎\t (Trust : 66.6 %)\n",
      "good, not bad : 👎\t (Trust : 66.6 %)\n"
     ]
    }
   ],
   "source": [
    "sentences = ['not good, bad', 'good, not bad']\n",
    "tokens = tokenizer.texts_to_sequences(sentences)\n",
    "padded_tokens = pad_sequences(tokens, maxlen = max_length, padding = 'post', truncating = 'post')\n",
    "\n",
    "predictions = list(np.reshape(model.predict(padded_tokens), len(sentences)))\n",
    "\n",
    "for i in range(len(sentences)):\n",
    "    if np.round(predictions[i]) == 1:\n",
    "        print(sentences[i] + ' : ' + str(emoji.emojize(':thumbs_up:') + '\\t (Trust : ' + str(np.round(100 * predictions[i],1)) + ' %)'))\n",
    "    else:\n",
    "        print(sentences[i] + ' : ' + str(emoji.emojize(':thumbs_down:') + '\\t (Trust : ' + str(np.round(100 - (100 * predictions[i]),1)) + ' %)'))\n",
    "    "
   ]
  },
  {
   "cell_type": "markdown",
   "metadata": {},
   "source": [
    "## 10 - Model parameters save "
   ]
  },
  {
   "cell_type": "code",
   "execution_count": 15,
   "metadata": {},
   "outputs": [],
   "source": [
    "model.save(\"model.h5\")"
   ]
  },
  {
   "cell_type": "markdown",
   "metadata": {},
   "source": [
    "## 11 - Saved model loading"
   ]
  },
  {
   "cell_type": "code",
   "execution_count": 16,
   "metadata": {},
   "outputs": [
    {
     "name": "stdout",
     "output_type": "stream",
     "text": [
      "WARNING:tensorflow:Error in loading the saved optimizer state. As a result, your model is starting with a freshly initialized optimizer.\n",
      "Model: \"sequential\"\n",
      "_________________________________________________________________\n",
      "Layer (type)                 Output Shape              Param #   \n",
      "=================================================================\n",
      "embedding (Embedding)        (None, 100, 10)           100000    \n",
      "_________________________________________________________________\n",
      "dropout (Dropout)            (None, 100, 10)           0         \n",
      "_________________________________________________________________\n",
      "global_average_pooling1d (Gl (None, 10)                0         \n",
      "_________________________________________________________________\n",
      "dense (Dense)                (None, 24)                264       \n",
      "_________________________________________________________________\n",
      "dropout_1 (Dropout)          (None, 24)                0         \n",
      "_________________________________________________________________\n",
      "dense_1 (Dense)              (None, 1)                 25        \n",
      "=================================================================\n",
      "Total params: 100,289\n",
      "Trainable params: 100,289\n",
      "Non-trainable params: 0\n",
      "_________________________________________________________________\n"
     ]
    }
   ],
   "source": [
    "model = load_model('model.h5')\n",
    "model.summary()"
   ]
  },
  {
   "cell_type": "code",
   "execution_count": null,
   "metadata": {},
   "outputs": [],
   "source": []
  },
  {
   "cell_type": "code",
   "execution_count": null,
   "metadata": {},
   "outputs": [],
   "source": []
  }
 ],
 "metadata": {
  "kernelspec": {
   "display_name": "Python 3",
   "language": "python",
   "name": "python3"
  },
  "language_info": {
   "codemirror_mode": {
    "name": "ipython",
    "version": 3
   },
   "file_extension": ".py",
   "mimetype": "text/x-python",
   "name": "python",
   "nbconvert_exporter": "python",
   "pygments_lexer": "ipython3",
   "version": "3.8.2"
  }
 },
 "nbformat": 4,
 "nbformat_minor": 4
}
