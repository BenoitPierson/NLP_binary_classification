{
 "cells": [
  {
   "cell_type": "markdown",
   "metadata": {},
   "source": [
    "# NLP model building"
   ]
  },
  {
   "cell_type": "markdown",
   "metadata": {},
   "source": [
    "Purpose : Building a model able to do a classification on sentences"
   ]
  },
  {
   "cell_type": "markdown",
   "metadata": {},
   "source": [
    "## 0 - Interesting links"
   ]
  },
  {
   "cell_type": "markdown",
   "metadata": {},
   "source": [
    "* https://www.youtube.com/playlist?list=PLQY2H8rRoyvzDbLUZkbudP-MFQZwNmU4S\n",
    "* https://www.youtube.com/watch?v=Y_hzMnRXjhI&list=PLQY2H8rRoyvzDbLUZkbudP-MFQZwNmU4S&index=3\n",
    "* https://machinelearningmastery.com/use-word-embedding-layers-deep-learning-keras/#:~:text=Keras%20offers%20an%20Embedding%20layer%20that%20can%20be,using%20the%20Tokenizer%20API%20also%20provided%20with%20Keras.\n",
    "* \n",
    "https://colab.research.google.com/github/lmoroney/dlaicourse/blob/master/TensorFlow%20In%20Practice/Course%203%20-%20NLP/Course%203%20-%20Week%202%20-%20Lesson%202.ipynb#scrollTo=3u8UB0MCkZ5N\n",
    "* https://towardsdatascience.com/a-practical-introduction-to-keras-callbacks-in-tensorflow-2-705d0c584966"
   ]
  },
  {
   "cell_type": "markdown",
   "metadata": {},
   "source": [
    "## 1 - Libraries import"
   ]
  },
  {
   "cell_type": "code",
   "execution_count": 192,
   "metadata": {},
   "outputs": [],
   "source": [
    "import json\n",
    "import random\n",
    "import numpy as np\n",
    "import pandas as pd\n",
    "import sklearn as sk\n",
    "import tensorflow as tf\n",
    "import matplotlib.pyplot as plt\n",
    "from sklearn.metrics import confusion_matrix\n",
    "from tensorflow.keras.models import load_model\n",
    "from tensorflow.keras.preprocessing.text import Tokenizer\n",
    "from tensorflow.keras.preprocessing.sequence import pad_sequences\n",
    "from tensorflow.keras.callbacks import EarlyStopping\n",
    "from tensorflow.keras.callbacks import CSVLogger"
   ]
  },
  {
   "cell_type": "markdown",
   "metadata": {},
   "source": [
    "## 2 - Variables definition"
   ]
  },
  {
   "cell_type": "code",
   "execution_count": 230,
   "metadata": {},
   "outputs": [],
   "source": [
    "nb_train = 10000 # Number of training examples considered\n",
    "nb_valid = 2500 # Number of validation examples considered\n",
    "vocab_size = 10000 # Number of words to be considered regarding on their frequency\n",
    "max_length = 300 # Maximum length of a sentence --> Size of entrance of neural network\n",
    "embedding_dim = 32 # Embedding dimension for vector representation of words\n",
    "nb_epochs = 50 # Number of epochs for training\n",
    "batch_size = 256 # Number of training examples considered in mini batches during training"
   ]
  },
  {
   "cell_type": "markdown",
   "metadata": {},
   "source": [
    "## 3 - Training JSON file reading"
   ]
  },
  {
   "cell_type": "code",
   "execution_count": 231,
   "metadata": {},
   "outputs": [],
   "source": [
    "training_examples = []\n",
    "URL = []\n",
    "X = [] # sentences\n",
    "Y = [] # sarcastic or not\n",
    "\n",
    "for line in open('review_amazon_ordinateurportable.json', 'r'):\n",
    "    training_examples.append(json.loads(line))\n",
    "\n",
    "training_examples = training_examples[0]\n",
    "\n",
    "for item in training_examples:\n",
    "    X.append(item['review'])    \n",
    "    Y.append(item['positive'])"
   ]
  },
  {
   "cell_type": "markdown",
   "metadata": {},
   "source": [
    "## 4 - Training / Test dataset splitting"
   ]
  },
  {
   "cell_type": "code",
   "execution_count": 232,
   "metadata": {},
   "outputs": [],
   "source": [
    "training_examples = list(zip(X, Y))\n",
    "random.shuffle(training_examples)\n",
    "X, Y = zip(*training_examples)\n",
    "\n",
    "X_train = X[0:nb_train]\n",
    "Y_train = Y[0:nb_train]\n",
    "\n",
    "X_valid = X[nb_train:nb_train + nb_valid]\n",
    "Y_valid = Y[nb_train:nb_train + nb_valid]\n",
    "\n",
    "X_test = X[nb_train + nb_valid:]\n",
    "Y_test = Y[nb_train + nb_valid:]"
   ]
  },
  {
   "cell_type": "markdown",
   "metadata": {},
   "source": [
    "## 5 - Sentences tokenization"
   ]
  },
  {
   "cell_type": "code",
   "execution_count": 233,
   "metadata": {},
   "outputs": [],
   "source": [
    "tokenizer = Tokenizer(oov_token = \"<OOV>\", num_words = vocab_size) # Strategy for considering Out Of Vocabulary words\n",
    "tokenizer.fit_on_texts(X_train) # Only considering words in training examples\n",
    "word_index = tokenizer.word_index\n",
    "\n",
    "# Pre-processing training set:\n",
    "X_train = tokenizer.texts_to_sequences(X_train)\n",
    "X_train = pad_sequences(X_train, maxlen = max_length, padding = 'post', truncating = 'post')\n",
    "\n",
    "# Pre-processing validation set:\n",
    "X_valid = tokenizer.texts_to_sequences(X_valid)\n",
    "X_valid = pad_sequences(X_valid, maxlen = max_length, padding = 'post', truncating = 'post')\n",
    "\n",
    "# Pre-processing test set:\n",
    "X_test = tokenizer.texts_to_sequences(X_test)\n",
    "X_test = pad_sequences(X_test, maxlen = max_length, padding = 'post', truncating = 'post')"
   ]
  },
  {
   "cell_type": "markdown",
   "metadata": {},
   "source": [
    "## 6 - Model architecture definition"
   ]
  },
  {
   "cell_type": "code",
   "execution_count": 234,
   "metadata": {},
   "outputs": [],
   "source": [
    "model = tf.keras.Sequential([\n",
    "    tf.keras.layers.Embedding(input_dim = vocab_size, output_dim = embedding_dim, input_length = max_length),\n",
    "    tf.keras.layers.Dropout(0.3),\n",
    "    tf.keras.layers.GlobalAveragePooling1D(),\n",
    "    tf.keras.layers.Dense(24, activation = 'relu'),\n",
    "    tf.keras.layers.Dropout(0.3),\n",
    "    tf.keras.layers.Dense(1, activation = 'sigmoid')\n",
    "])\n",
    "\n",
    "model.compile(loss='binary_crossentropy', optimizer='adam', metrics=['accuracy'])"
   ]
  },
  {
   "cell_type": "code",
   "execution_count": 235,
   "metadata": {},
   "outputs": [
    {
     "name": "stdout",
     "output_type": "stream",
     "text": [
      "Model: \"sequential_17\"\n",
      "_________________________________________________________________\n",
      "Layer (type)                 Output Shape              Param #   \n",
      "=================================================================\n",
      "embedding_17 (Embedding)     (None, 300, 32)           320000    \n",
      "_________________________________________________________________\n",
      "dropout_25 (Dropout)         (None, 300, 32)           0         \n",
      "_________________________________________________________________\n",
      "global_average_pooling1d_17  (None, 32)                0         \n",
      "_________________________________________________________________\n",
      "dense_34 (Dense)             (None, 24)                792       \n",
      "_________________________________________________________________\n",
      "dropout_26 (Dropout)         (None, 24)                0         \n",
      "_________________________________________________________________\n",
      "dense_35 (Dense)             (None, 1)                 25        \n",
      "=================================================================\n",
      "Total params: 320,817\n",
      "Trainable params: 320,817\n",
      "Non-trainable params: 0\n",
      "_________________________________________________________________\n"
     ]
    }
   ],
   "source": [
    "model.summary()"
   ]
  },
  {
   "cell_type": "markdown",
   "metadata": {},
   "source": [
    "## 7 - Model training"
   ]
  },
  {
   "cell_type": "code",
   "execution_count": 236,
   "metadata": {},
   "outputs": [],
   "source": [
    "callback_list = []\n",
    "\n",
    "callback_list.append(EarlyStopping(monitor = 'val_loss', patience = 15, min_delta = 0.0, mode = 'min')) # Callback to ensure parameters update in accordance with test accuracy improvement\n",
    "callback_list.append(CSVLogger('training_log.csv')) # Callback to get a feedback"
   ]
  },
  {
   "cell_type": "code",
   "execution_count": 237,
   "metadata": {},
   "outputs": [
    {
     "name": "stdout",
     "output_type": "stream",
     "text": [
      "Epoch 1/50\n",
      "313/313 - 5s - loss: 0.6852 - accuracy: 0.5416 - val_loss: 0.6781 - val_accuracy: 0.5752\n",
      "Epoch 2/50\n",
      "313/313 - 5s - loss: 0.6394 - accuracy: 0.6548 - val_loss: 0.6025 - val_accuracy: 0.7340\n",
      "Epoch 3/50\n",
      "313/313 - 4s - loss: 0.5661 - accuracy: 0.7272 - val_loss: 0.5569 - val_accuracy: 0.7308\n",
      "Epoch 4/50\n",
      "313/313 - 4s - loss: 0.5142 - accuracy: 0.7644 - val_loss: 0.5575 - val_accuracy: 0.6968\n",
      "Epoch 5/50\n",
      "313/313 - 4s - loss: 0.4809 - accuracy: 0.7795 - val_loss: 0.5186 - val_accuracy: 0.7528\n",
      "Epoch 6/50\n",
      "313/313 - 4s - loss: 0.4536 - accuracy: 0.7898 - val_loss: 0.5074 - val_accuracy: 0.7476\n",
      "Epoch 7/50\n",
      "313/313 - 4s - loss: 0.4317 - accuracy: 0.7973 - val_loss: 0.5142 - val_accuracy: 0.7424\n",
      "Epoch 8/50\n",
      "313/313 - 4s - loss: 0.4107 - accuracy: 0.8013 - val_loss: 0.4837 - val_accuracy: 0.7520\n",
      "Epoch 9/50\n",
      "313/313 - 4s - loss: 0.3957 - accuracy: 0.8092 - val_loss: 0.4960 - val_accuracy: 0.7464\n",
      "Epoch 10/50\n",
      "313/313 - 5s - loss: 0.3833 - accuracy: 0.8142 - val_loss: 0.4659 - val_accuracy: 0.7556\n",
      "Epoch 11/50\n",
      "313/313 - 6s - loss: 0.3650 - accuracy: 0.8210 - val_loss: 0.4716 - val_accuracy: 0.7584\n",
      "Epoch 12/50\n",
      "313/313 - 5s - loss: 0.3567 - accuracy: 0.8252 - val_loss: 0.4698 - val_accuracy: 0.7520\n",
      "Epoch 13/50\n",
      "313/313 - 5s - loss: 0.3427 - accuracy: 0.8238 - val_loss: 0.4534 - val_accuracy: 0.7592\n",
      "Epoch 14/50\n",
      "313/313 - 5s - loss: 0.3359 - accuracy: 0.8290 - val_loss: 0.4795 - val_accuracy: 0.7424\n",
      "Epoch 15/50\n",
      "313/313 - 5s - loss: 0.3313 - accuracy: 0.8278 - val_loss: 0.4653 - val_accuracy: 0.7512\n",
      "Epoch 16/50\n",
      "313/313 - 5s - loss: 0.3207 - accuracy: 0.8344 - val_loss: 0.4562 - val_accuracy: 0.7592\n",
      "Epoch 17/50\n",
      "313/313 - 6s - loss: 0.3179 - accuracy: 0.8301 - val_loss: 0.4653 - val_accuracy: 0.7548\n",
      "Epoch 18/50\n",
      "313/313 - 7s - loss: 0.3070 - accuracy: 0.8409 - val_loss: 0.4715 - val_accuracy: 0.7656\n",
      "Epoch 19/50\n",
      "313/313 - 6s - loss: 0.3039 - accuracy: 0.8308 - val_loss: 0.4650 - val_accuracy: 0.7516\n",
      "Epoch 20/50\n",
      "313/313 - 6s - loss: 0.3005 - accuracy: 0.8415 - val_loss: 0.4614 - val_accuracy: 0.7532\n",
      "Epoch 21/50\n",
      "313/313 - 5s - loss: 0.2955 - accuracy: 0.8374 - val_loss: 0.4737 - val_accuracy: 0.7684\n",
      "Epoch 22/50\n",
      "313/313 - 5s - loss: 0.2877 - accuracy: 0.8437 - val_loss: 0.4683 - val_accuracy: 0.7524\n",
      "Epoch 23/50\n",
      "313/313 - 6s - loss: 0.2842 - accuracy: 0.8464 - val_loss: 0.4836 - val_accuracy: 0.7484\n",
      "Epoch 24/50\n",
      "313/313 - 6s - loss: 0.2835 - accuracy: 0.8419 - val_loss: 0.4827 - val_accuracy: 0.7544\n",
      "Epoch 25/50\n",
      "313/313 - 5s - loss: 0.2803 - accuracy: 0.8465 - val_loss: 0.4722 - val_accuracy: 0.7628\n",
      "Epoch 26/50\n",
      "313/313 - 5s - loss: 0.2714 - accuracy: 0.8457 - val_loss: 0.4902 - val_accuracy: 0.7588\n",
      "Epoch 27/50\n",
      "313/313 - 5s - loss: 0.2721 - accuracy: 0.8470 - val_loss: 0.4941 - val_accuracy: 0.7604\n",
      "Epoch 28/50\n",
      "313/313 - 5s - loss: 0.2660 - accuracy: 0.8473 - val_loss: 0.5122 - val_accuracy: 0.7652\n"
     ]
    }
   ],
   "source": [
    "X_train = np.array(X_train)\n",
    "Y_train = np.array(Y_train)\n",
    "\n",
    "X_valid = np.array(X_valid)\n",
    "Y_valid = np.array(Y_valid)\n",
    "\n",
    "X_test = np.array(X_test)\n",
    "Y_test = np.array(Y_test)\n",
    "\n",
    "history = model.fit(X_train, Y_train, epochs = nb_epochs, mini_batch = batch_size, validation_data = (X_valid, Y_valid), verbose = 2, callbacks = callback_list)"
   ]
  },
  {
   "cell_type": "markdown",
   "metadata": {},
   "source": [
    "## 8 - Model training analysis"
   ]
  },
  {
   "cell_type": "markdown",
   "metadata": {},
   "source": [
    "### 8.1 - Accuracy & Loss plots"
   ]
  },
  {
   "cell_type": "code",
   "execution_count": 238,
   "metadata": {},
   "outputs": [
    {
     "data": {
      "image/png": "[encoded data removed]",
      "text/plain": [
       "<Figure size 432x288 with 1 Axes>"
      ]
     },
     "metadata": {
      "needs_background": "light"
     },
     "output_type": "display_data"
    },
    {
     "data": {
      "image/png": "[encoded data removed]",
      "text/plain": [
       "<Figure size 432x288 with 1 Axes>"
      ]
     },
     "metadata": {
      "needs_background": "light"
     },
     "output_type": "display_data"
    }
   ],
   "source": [
    "def plot_graphs(history, string):\n",
    "    plt.plot(history.history[string])\n",
    "    plt.plot(history.history['val_'+string])\n",
    "    plt.xlabel(\"Epochs\")\n",
    "    plt.ylabel(string)\n",
    "    plt.legend([string, 'val_'+string])\n",
    "    plt.show()\n",
    "    \n",
    "plot_graphs(history, \"accuracy\") \n",
    "plot_graphs(history, \"loss\")"
   ]
  },
  {
   "cell_type": "markdown",
   "metadata": {},
   "source": [
    "### 8.2 - Loading log file information"
   ]
  },
  {
   "cell_type": "code",
   "execution_count": 239,
   "metadata": {},
   "outputs": [
    {
     "data": {
      "text/html": [
       "<div>\n",
       "<style scoped>\n",
       "    .dataframe tbody tr th:only-of-type {\n",
       "        vertical-align: middle;\n",
       "    }\n",
       "\n",
       "    .dataframe tbody tr th {\n",
       "        vertical-align: top;\n",
       "    }\n",
       "\n",
       "    .dataframe thead th {\n",
       "        text-align: right;\n",
       "    }\n",
       "</style>\n",
       "<table border=\"1\" class=\"dataframe\">\n",
       "  <thead>\n",
       "    <tr style=\"text-align: right;\">\n",
       "      <th></th>\n",
       "      <th>epoch</th>\n",
       "      <th>accuracy</th>\n",
       "      <th>loss</th>\n",
       "      <th>val_accuracy</th>\n",
       "      <th>val_loss</th>\n",
       "    </tr>\n",
       "  </thead>\n",
       "  <tbody>\n",
       "    <tr>\n",
       "      <th>0</th>\n",
       "      <td>0</td>\n",
       "      <td>0.5416</td>\n",
       "      <td>0.685204</td>\n",
       "      <td>0.5752</td>\n",
       "      <td>0.678088</td>\n",
       "    </tr>\n",
       "    <tr>\n",
       "      <th>1</th>\n",
       "      <td>1</td>\n",
       "      <td>0.6548</td>\n",
       "      <td>0.639353</td>\n",
       "      <td>0.7340</td>\n",
       "      <td>0.602474</td>\n",
       "    </tr>\n",
       "    <tr>\n",
       "      <th>2</th>\n",
       "      <td>2</td>\n",
       "      <td>0.7272</td>\n",
       "      <td>0.566079</td>\n",
       "      <td>0.7308</td>\n",
       "      <td>0.556934</td>\n",
       "    </tr>\n",
       "    <tr>\n",
       "      <th>3</th>\n",
       "      <td>3</td>\n",
       "      <td>0.7644</td>\n",
       "      <td>0.514246</td>\n",
       "      <td>0.6968</td>\n",
       "      <td>0.557477</td>\n",
       "    </tr>\n",
       "    <tr>\n",
       "      <th>4</th>\n",
       "      <td>4</td>\n",
       "      <td>0.7795</td>\n",
       "      <td>0.480888</td>\n",
       "      <td>0.7528</td>\n",
       "      <td>0.518605</td>\n",
       "    </tr>\n",
       "    <tr>\n",
       "      <th>5</th>\n",
       "      <td>5</td>\n",
       "      <td>0.7898</td>\n",
       "      <td>0.453604</td>\n",
       "      <td>0.7476</td>\n",
       "      <td>0.507374</td>\n",
       "    </tr>\n",
       "    <tr>\n",
       "      <th>6</th>\n",
       "      <td>6</td>\n",
       "      <td>0.7973</td>\n",
       "      <td>0.431741</td>\n",
       "      <td>0.7424</td>\n",
       "      <td>0.514242</td>\n",
       "    </tr>\n",
       "    <tr>\n",
       "      <th>7</th>\n",
       "      <td>7</td>\n",
       "      <td>0.8013</td>\n",
       "      <td>0.410671</td>\n",
       "      <td>0.7520</td>\n",
       "      <td>0.483710</td>\n",
       "    </tr>\n",
       "    <tr>\n",
       "      <th>8</th>\n",
       "      <td>8</td>\n",
       "      <td>0.8092</td>\n",
       "      <td>0.395748</td>\n",
       "      <td>0.7464</td>\n",
       "      <td>0.495979</td>\n",
       "    </tr>\n",
       "    <tr>\n",
       "      <th>9</th>\n",
       "      <td>9</td>\n",
       "      <td>0.8142</td>\n",
       "      <td>0.383334</td>\n",
       "      <td>0.7556</td>\n",
       "      <td>0.465890</td>\n",
       "    </tr>\n",
       "    <tr>\n",
       "      <th>10</th>\n",
       "      <td>10</td>\n",
       "      <td>0.8210</td>\n",
       "      <td>0.364990</td>\n",
       "      <td>0.7584</td>\n",
       "      <td>0.471605</td>\n",
       "    </tr>\n",
       "    <tr>\n",
       "      <th>11</th>\n",
       "      <td>11</td>\n",
       "      <td>0.8252</td>\n",
       "      <td>0.356742</td>\n",
       "      <td>0.7520</td>\n",
       "      <td>0.469774</td>\n",
       "    </tr>\n",
       "    <tr>\n",
       "      <th>12</th>\n",
       "      <td>12</td>\n",
       "      <td>0.8238</td>\n",
       "      <td>0.342684</td>\n",
       "      <td>0.7592</td>\n",
       "      <td>0.453418</td>\n",
       "    </tr>\n",
       "    <tr>\n",
       "      <th>13</th>\n",
       "      <td>13</td>\n",
       "      <td>0.8290</td>\n",
       "      <td>0.335920</td>\n",
       "      <td>0.7424</td>\n",
       "      <td>0.479495</td>\n",
       "    </tr>\n",
       "    <tr>\n",
       "      <th>14</th>\n",
       "      <td>14</td>\n",
       "      <td>0.8278</td>\n",
       "      <td>0.331332</td>\n",
       "      <td>0.7512</td>\n",
       "      <td>0.465250</td>\n",
       "    </tr>\n",
       "    <tr>\n",
       "      <th>15</th>\n",
       "      <td>15</td>\n",
       "      <td>0.8344</td>\n",
       "      <td>0.320744</td>\n",
       "      <td>0.7592</td>\n",
       "      <td>0.456158</td>\n",
       "    </tr>\n",
       "    <tr>\n",
       "      <th>16</th>\n",
       "      <td>16</td>\n",
       "      <td>0.8301</td>\n",
       "      <td>0.317926</td>\n",
       "      <td>0.7548</td>\n",
       "      <td>0.465257</td>\n",
       "    </tr>\n",
       "    <tr>\n",
       "      <th>17</th>\n",
       "      <td>17</td>\n",
       "      <td>0.8409</td>\n",
       "      <td>0.307021</td>\n",
       "      <td>0.7656</td>\n",
       "      <td>0.471522</td>\n",
       "    </tr>\n",
       "    <tr>\n",
       "      <th>18</th>\n",
       "      <td>18</td>\n",
       "      <td>0.8308</td>\n",
       "      <td>0.303853</td>\n",
       "      <td>0.7516</td>\n",
       "      <td>0.465018</td>\n",
       "    </tr>\n",
       "    <tr>\n",
       "      <th>19</th>\n",
       "      <td>19</td>\n",
       "      <td>0.8415</td>\n",
       "      <td>0.300465</td>\n",
       "      <td>0.7532</td>\n",
       "      <td>0.461438</td>\n",
       "    </tr>\n",
       "    <tr>\n",
       "      <th>20</th>\n",
       "      <td>20</td>\n",
       "      <td>0.8374</td>\n",
       "      <td>0.295485</td>\n",
       "      <td>0.7684</td>\n",
       "      <td>0.473703</td>\n",
       "    </tr>\n",
       "    <tr>\n",
       "      <th>21</th>\n",
       "      <td>21</td>\n",
       "      <td>0.8437</td>\n",
       "      <td>0.287728</td>\n",
       "      <td>0.7524</td>\n",
       "      <td>0.468284</td>\n",
       "    </tr>\n",
       "    <tr>\n",
       "      <th>22</th>\n",
       "      <td>22</td>\n",
       "      <td>0.8464</td>\n",
       "      <td>0.284182</td>\n",
       "      <td>0.7484</td>\n",
       "      <td>0.483620</td>\n",
       "    </tr>\n",
       "    <tr>\n",
       "      <th>23</th>\n",
       "      <td>23</td>\n",
       "      <td>0.8419</td>\n",
       "      <td>0.283453</td>\n",
       "      <td>0.7544</td>\n",
       "      <td>0.482731</td>\n",
       "    </tr>\n",
       "    <tr>\n",
       "      <th>24</th>\n",
       "      <td>24</td>\n",
       "      <td>0.8465</td>\n",
       "      <td>0.280263</td>\n",
       "      <td>0.7628</td>\n",
       "      <td>0.472200</td>\n",
       "    </tr>\n",
       "    <tr>\n",
       "      <th>25</th>\n",
       "      <td>25</td>\n",
       "      <td>0.8457</td>\n",
       "      <td>0.271408</td>\n",
       "      <td>0.7588</td>\n",
       "      <td>0.490173</td>\n",
       "    </tr>\n",
       "    <tr>\n",
       "      <th>26</th>\n",
       "      <td>26</td>\n",
       "      <td>0.8470</td>\n",
       "      <td>0.272148</td>\n",
       "      <td>0.7604</td>\n",
       "      <td>0.494078</td>\n",
       "    </tr>\n",
       "    <tr>\n",
       "      <th>27</th>\n",
       "      <td>27</td>\n",
       "      <td>0.8473</td>\n",
       "      <td>0.265990</td>\n",
       "      <td>0.7652</td>\n",
       "      <td>0.512217</td>\n",
       "    </tr>\n",
       "  </tbody>\n",
       "</table>\n",
       "</div>"
      ],
      "text/plain": [
       "    epoch  accuracy      loss  val_accuracy  val_loss\n",
       "0       0    0.5416  0.685204        0.5752  0.678088\n",
       "1       1    0.6548  0.639353        0.7340  0.602474\n",
       "2       2    0.7272  0.566079        0.7308  0.556934\n",
       "3       3    0.7644  0.514246        0.6968  0.557477\n",
       "4       4    0.7795  0.480888        0.7528  0.518605\n",
       "5       5    0.7898  0.453604        0.7476  0.507374\n",
       "6       6    0.7973  0.431741        0.7424  0.514242\n",
       "7       7    0.8013  0.410671        0.7520  0.483710\n",
       "8       8    0.8092  0.395748        0.7464  0.495979\n",
       "9       9    0.8142  0.383334        0.7556  0.465890\n",
       "10     10    0.8210  0.364990        0.7584  0.471605\n",
       "11     11    0.8252  0.356742        0.7520  0.469774\n",
       "12     12    0.8238  0.342684        0.7592  0.453418\n",
       "13     13    0.8290  0.335920        0.7424  0.479495\n",
       "14     14    0.8278  0.331332        0.7512  0.465250\n",
       "15     15    0.8344  0.320744        0.7592  0.456158\n",
       "16     16    0.8301  0.317926        0.7548  0.465257\n",
       "17     17    0.8409  0.307021        0.7656  0.471522\n",
       "18     18    0.8308  0.303853        0.7516  0.465018\n",
       "19     19    0.8415  0.300465        0.7532  0.461438\n",
       "20     20    0.8374  0.295485        0.7684  0.473703\n",
       "21     21    0.8437  0.287728        0.7524  0.468284\n",
       "22     22    0.8464  0.284182        0.7484  0.483620\n",
       "23     23    0.8419  0.283453        0.7544  0.482731\n",
       "24     24    0.8465  0.280263        0.7628  0.472200\n",
       "25     25    0.8457  0.271408        0.7588  0.490173\n",
       "26     26    0.8470  0.272148        0.7604  0.494078\n",
       "27     27    0.8473  0.265990        0.7652  0.512217"
      ]
     },
     "execution_count": 239,
     "metadata": {},
     "output_type": "execute_result"
    }
   ],
   "source": [
    "df_log = pd.read_csv('training_log.csv')\n",
    "df_log"
   ]
  },
  {
   "cell_type": "markdown",
   "metadata": {},
   "source": [
    "## 9 - Predictions on test set & new sentences"
   ]
  },
  {
   "cell_type": "code",
   "execution_count": 240,
   "metadata": {},
   "outputs": [
    {
     "name": "stdout",
     "output_type": "stream",
     "text": [
      "CONFUSION MATRIX\n",
      "====================\n",
      "TRUE POSITIVES : 870\n",
      "FALSE POSITIVES : 308\n",
      "FALSE NEGATIVES : 357\n",
      "TRUE NEGATIVES : 1194\n",
      "--------------------\n",
      "ACCURACY : 75.63 %\n"
     ]
    }
   ],
   "source": [
    "Y_test_prediction = np.round_(model.predict(X_test)[:,0])\n",
    "conf_matrix = confusion_matrix(Y_test_prediction, Y_test)\n",
    "\n",
    "print('CONFUSION MATRIX' + '\\n' + '='*20)\n",
    "print('TRUE POSITIVES : ' + str(conf_matrix[0][0]) + '\\nFALSE POSITIVES : ' + str(conf_matrix[0][1]) + '\\nFALSE NEGATIVES : ' + str(conf_matrix[1][0]) + '\\nTRUE NEGATIVES : ' + str(conf_matrix[1][1]))\n",
    "print('-'*20 + '\\nACCURACY : ' + str(np.round_(100 * (conf_matrix[0][0] + conf_matrix[1][1])/(conf_matrix[0][0] + conf_matrix[1][0] + conf_matrix[0][1] + conf_matrix[1][1]),2)) + ' %')"
   ]
  },
  {
   "cell_type": "code",
   "execution_count": 241,
   "metadata": {},
   "outputs": [],
   "source": [
    "sentence = [\"granny starting to fear spiders in the garden might be real\"]\n",
    "sequence = tokenizer.texts_to_sequences(sentence)\n",
    "sentence = pad_sequences(sequence, maxlen = max_length, padding = 'post', truncating = 'post')"
   ]
  },
  {
   "cell_type": "markdown",
   "metadata": {},
   "source": [
    "## 10 - Model parameters save "
   ]
  },
  {
   "cell_type": "code",
   "execution_count": 242,
   "metadata": {},
   "outputs": [],
   "source": [
    "model.save(\"model.h5\")"
   ]
  },
  {
   "cell_type": "markdown",
   "metadata": {},
   "source": [
    "## 11 - Saved model loading"
   ]
  },
  {
   "cell_type": "code",
   "execution_count": 243,
   "metadata": {},
   "outputs": [
    {
     "name": "stdout",
     "output_type": "stream",
     "text": [
      "WARNING:tensorflow:Error in loading the saved optimizer state. As a result, your model is starting with a freshly initialized optimizer.\n",
      "Model: \"sequential_17\"\n",
      "_________________________________________________________________\n",
      "Layer (type)                 Output Shape              Param #   \n",
      "=================================================================\n",
      "embedding_17 (Embedding)     (None, 300, 32)           320000    \n",
      "_________________________________________________________________\n",
      "dropout_25 (Dropout)         (None, 300, 32)           0         \n",
      "_________________________________________________________________\n",
      "global_average_pooling1d_17  (None, 32)                0         \n",
      "_________________________________________________________________\n",
      "dense_34 (Dense)             (None, 24)                792       \n",
      "_________________________________________________________________\n",
      "dropout_26 (Dropout)         (None, 24)                0         \n",
      "_________________________________________________________________\n",
      "dense_35 (Dense)             (None, 1)                 25        \n",
      "=================================================================\n",
      "Total params: 320,817\n",
      "Trainable params: 320,817\n",
      "Non-trainable params: 0\n",
      "_________________________________________________________________\n"
     ]
    }
   ],
   "source": [
    "model = load_model('model.h5')\n",
    "model.summary()"
   ]
  },
  {
   "cell_type": "code",
   "execution_count": null,
   "metadata": {},
   "outputs": [],
   "source": []
  },
  {
   "cell_type": "code",
   "execution_count": null,
   "metadata": {},
   "outputs": [],
   "source": []
  }
 ],
 "metadata": {
  "kernelspec": {
   "display_name": "Python 3",
   "language": "python",
   "name": "python3"
  },
  "language_info": {
   "codemirror_mode": {
    "name": "ipython",
    "version": 3
   },
   "file_extension": ".py",
   "mimetype": "text/x-python",
   "name": "python",
   "nbconvert_exporter": "python",
   "pygments_lexer": "ipython3",
   "version": "3.8.2"
  }
 },
 "nbformat": 4,
 "nbformat_minor": 4
}
