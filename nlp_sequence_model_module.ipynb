{
 "cells": [
  {
   "cell_type": "markdown",
   "metadata": {},
   "source": [
    "# NLP model building with long short term memory LSTM"
   ]
  },
  {
   "cell_type": "markdown",
   "metadata": {},
   "source": [
    "Purpose : Building a model able to do a classification on sentences"
   ]
  },
  {
   "cell_type": "markdown",
   "metadata": {},
   "source": [
    "## 0 - Interesting links"
   ]
  },
  {
   "cell_type": "markdown",
   "metadata": {},
   "source": [
    "* https://towardsdatascience.com/multi-class-text-classification-with-lstm-1590bee1bd17\n",
    "* https://www.hackdeploy.com/keras-lstm-example-sequence-binary-classification/\n",
    "* https://www.youtube.com/watch?v=A9QVYOBjZdY&ab_channel=TensorFlow\n",
    "* https://www.youtube.com/watch?v=ZMudJXhsUpY&ab_channel=TensorFlow\n",
    "* https://towardsdatascience.com/multi-class-text-classification-with-lstm-1590bee1bd17\n",
    "\n",
    "\n",
    "To test different neural network architectures :\n",
    "* https://keras-team.github.io/keras-tuner/\n",
    "* https://towardsdatascience.com/machine-learning-word-embedding-sentiment-classification-using-keras-b83c28087456"
   ]
  },
  {
   "cell_type": "markdown",
   "metadata": {},
   "source": [
    "## 1 - Libraries import"
   ]
  },
  {
   "cell_type": "code",
   "execution_count": 88,
   "metadata": {},
   "outputs": [],
   "source": [
    "import json\n",
    "import random\n",
    "import emoji\n",
    "import emojis\n",
    "import numpy as np\n",
    "import pandas as pd\n",
    "import sklearn as sk\n",
    "import tensorflow as tf\n",
    "import matplotlib.pyplot as plt\n",
    "from sklearn.metrics import confusion_matrix\n",
    "from tensorflow.keras.models import load_model\n",
    "from tensorflow.keras.preprocessing.text import Tokenizer\n",
    "from tensorflow.keras.preprocessing.sequence import pad_sequences\n",
    "from tensorflow.keras.callbacks import EarlyStopping\n",
    "from tensorflow.keras.callbacks import CSVLogger"
   ]
  },
  {
   "cell_type": "markdown",
   "metadata": {},
   "source": [
    "## 2 - Variables definition"
   ]
  },
  {
   "cell_type": "code",
   "execution_count": 145,
   "metadata": {},
   "outputs": [],
   "source": [
    "nb_train = 7000 # Number of training examples considered\n",
    "nb_valid = 1500 # Number of validation examples considered\n",
    "vocab_size = 10000 # Number of words to be considered regarding on their frequency\n",
    "max_length = 100 # Maximum length of a sentence --> Size of entrance of neural network\n",
    "embedding_dim = 8 # Embedding dimension for vector representation of words\n",
    "nb_epochs = 40 # Number of epochs for training\n",
    "batch_size = 256 # Number of training examples considered in mini batches during training"
   ]
  },
  {
   "cell_type": "markdown",
   "metadata": {},
   "source": [
    "## 3 - Training JSON file reading"
   ]
  },
  {
   "cell_type": "code",
   "execution_count": 117,
   "metadata": {},
   "outputs": [],
   "source": [
    "training_examples = []\n",
    "URL = []\n",
    "X = [] # sentences\n",
    "Y = [] # positive or not\n",
    "\n",
    "for line in open('review_amazon_ordinateurportable02_November_2020.json', 'r'):\n",
    "    training_examples.append(json.loads(line))\n",
    "\n",
    "training_examples = training_examples[0]\n",
    "\n",
    "for item in training_examples:\n",
    "    X.append(item['review'])    \n",
    "    Y.append(item['positive'])"
   ]
  },
  {
   "cell_type": "code",
   "execution_count": 118,
   "metadata": {},
   "outputs": [
    {
     "name": "stdout",
     "output_type": "stream",
     "text": [
      "POSITIVE COMMENTS : \n",
      "------------------------------------------------------------------------------------------------------------------------\n",
      "  6300 hundred processor is few generation old,  It should be priced 350 or 399 : 👍\n",
      "  I ordered this yesterday and got it within 24 hours, I love it : 👍\n",
      "  I bought this to replace a 2012 Mac Mini in our kitchen,It was over $500 - I wish it was a little cheaper, maybe $400, but at least it should last me 5+ years if nothing dies and I can easily use it with a TV if I want to change my use case : 👍\n",
      "  So easy to use compared to Window  PC, I wanted to replace my All in one PC and the Chromebox with a monitor and speakers did the Job : 👍\n",
      "  I bought this to play GeForce Now on since my old computer can't handle it, I recommend to anyone looking to PC game but don't wanna drop $1000 on a gaming rig : 👍\n",
      "  Many more attachments can be used, I have a couple of extra monitors that work well with this : 👍\n",
      "  Bought this for my son to use for school (since he will be going virtual schooling this year) and very easy set up, works just like a chrome book but as a small computer tower can attach it to back of a tv if you want to take up even less room (we did not do this) : 👍\n",
      "\n",
      "========================================================================================================================\n",
      "\n",
      "NEGATIVE COMMENTS : \n",
      "------------------------------------------------------------------------------------------------------------------------\n",
      "  Product DOA, What is the use of of a computer that does not boot up : 👎\n",
      "  did not last 1 year, hardware failure, : 👎\n",
      "  Item faulty, Doesn`t work : 👎\n"
     ]
    }
   ],
   "source": [
    "print(\"POSITIVE COMMENTS : \\n\" + \"-\"*120)\n",
    "for i in range(10):\n",
    "    if Y[i] == 1:\n",
    "        print(X[i] + ' : ' + emoji.emojize(':thumbs_up:'))\n",
    "        \n",
    "    \n",
    "print('\\n' + '='*120 + '\\n')\n",
    "\n",
    "print(\"NEGATIVE COMMENTS : \\n\" + \"-\"*120)\n",
    "for i in range(10):\n",
    "    if Y[i] == 0:\n",
    "        print(X[i] + ' : ' + emoji.emojize(':thumbs_down:'))"
   ]
  },
  {
   "cell_type": "markdown",
   "metadata": {},
   "source": [
    "## 4 - Training / Test dataset splitting"
   ]
  },
  {
   "cell_type": "code",
   "execution_count": 119,
   "metadata": {},
   "outputs": [],
   "source": [
    "training_examples = list(zip(X, Y))\n",
    "random.shuffle(training_examples)\n",
    "X, Y = zip(*training_examples)\n",
    "\n",
    "X_train = list(X[0:nb_train])\n",
    "Y_train = list(Y[0:nb_train])\n",
    "\n",
    "X_valid = list(X[nb_train:nb_train + nb_valid])\n",
    "Y_valid = list(Y[nb_train:nb_train + nb_valid])\n",
    "\n",
    "X_test = list(X[nb_train + nb_valid:])\n",
    "Y_test = list(Y[nb_train + nb_valid:])"
   ]
  },
  {
   "cell_type": "markdown",
   "metadata": {},
   "source": [
    "## 5 - Sentences tokenization"
   ]
  },
  {
   "cell_type": "code",
   "execution_count": 120,
   "metadata": {},
   "outputs": [],
   "source": [
    "tokenizer = Tokenizer(oov_token = \"<OOV>\", num_words = vocab_size) # Strategy for considering Out Of Vocabulary words\n",
    "tokenizer.fit_on_texts(X_train) # Only considering words in training examples\n",
    "word_index = tokenizer.word_index\n",
    "\n",
    "# Pre-processing training set:\n",
    "X_train = tokenizer.texts_to_sequences(X_train)\n",
    "X_train = pad_sequences(X_train, maxlen = max_length, padding = 'post', truncating = 'post')\n",
    "\n",
    "# Pre-processing validation set:\n",
    "X_valid = tokenizer.texts_to_sequences(X_valid)\n",
    "X_valid = pad_sequences(X_valid, maxlen = max_length, padding = 'post', truncating = 'post')\n",
    "\n",
    "# Pre-processing test set:\n",
    "X_test = tokenizer.texts_to_sequences(X_test)\n",
    "X_test = pad_sequences(X_test, maxlen = max_length, padding = 'post', truncating = 'post')"
   ]
  },
  {
   "cell_type": "markdown",
   "metadata": {},
   "source": [
    "## 6 - Model architecture definition"
   ]
  },
  {
   "cell_type": "code",
   "execution_count": 146,
   "metadata": {},
   "outputs": [],
   "source": [
    "model = tf.keras.Sequential([\n",
    "    tf.keras.layers.Embedding(input_dim = vocab_size, output_dim = embedding_dim),\n",
    "    tf.keras.layers.Bidirectional(tf.keras.layers.LSTM(embedding_dim)),\n",
    "    #tf.keras.layers.Dense(16, activation = 'relu'),\n",
    "    tf.keras.layers.Dense(1, activation = 'sigmoid')\n",
    "])\n",
    "\n",
    "model.compile(loss='binary_crossentropy', optimizer='adam', metrics=['accuracy'])"
   ]
  },
  {
   "cell_type": "code",
   "execution_count": 147,
   "metadata": {},
   "outputs": [
    {
     "name": "stdout",
     "output_type": "stream",
     "text": [
      "Model: \"sequential_19\"\n",
      "_________________________________________________________________\n",
      "Layer (type)                 Output Shape              Param #   \n",
      "=================================================================\n",
      "embedding_19 (Embedding)     (None, None, 8)           80000     \n",
      "_________________________________________________________________\n",
      "bidirectional_16 (Bidirectio (None, 16)                1088      \n",
      "_________________________________________________________________\n",
      "dense_33 (Dense)             (None, 1)                 17        \n",
      "=================================================================\n",
      "Total params: 81,105\n",
      "Trainable params: 81,105\n",
      "Non-trainable params: 0\n",
      "_________________________________________________________________\n"
     ]
    }
   ],
   "source": [
    "model.summary()"
   ]
  },
  {
   "cell_type": "markdown",
   "metadata": {},
   "source": [
    "## 7 - Model training"
   ]
  },
  {
   "cell_type": "code",
   "execution_count": 148,
   "metadata": {},
   "outputs": [],
   "source": [
    "callback_list = []\n",
    "\n",
    "callback_list.append(EarlyStopping(monitor = 'val_loss', patience = 10, min_delta = 0.0, mode = 'min')) # Callback to ensure parameters update in accordance with test accuracy improvement\n",
    "callback_list.append(CSVLogger('training_log.csv')) # Callback to get a feedback"
   ]
  },
  {
   "cell_type": "code",
   "execution_count": 149,
   "metadata": {},
   "outputs": [
    {
     "name": "stdout",
     "output_type": "stream",
     "text": [
      "Epoch 1/40\n",
      "28/28 - 3s - loss: 0.6766 - accuracy: 0.6023 - val_loss: 0.6873 - val_accuracy: 0.5660\n",
      "Epoch 2/40\n",
      "28/28 - 2s - loss: 0.6613 - accuracy: 0.6021 - val_loss: 0.6722 - val_accuracy: 0.5660\n",
      "Epoch 3/40\n",
      "28/28 - 2s - loss: 0.6327 - accuracy: 0.6096 - val_loss: 0.6383 - val_accuracy: 0.5840\n",
      "Epoch 4/40\n",
      "28/28 - 2s - loss: 0.5581 - accuracy: 0.7287 - val_loss: 0.5856 - val_accuracy: 0.6840\n",
      "Epoch 5/40\n",
      "28/28 - 3s - loss: 0.4829 - accuracy: 0.8170 - val_loss: 0.5468 - val_accuracy: 0.7440\n",
      "Epoch 6/40\n",
      "28/28 - 2s - loss: 0.4200 - accuracy: 0.8490 - val_loss: 0.5207 - val_accuracy: 0.7573\n",
      "Epoch 7/40\n",
      "28/28 - 2s - loss: 0.3714 - accuracy: 0.8807 - val_loss: 0.5355 - val_accuracy: 0.7413\n",
      "Epoch 8/40\n",
      "28/28 - 3s - loss: 0.3297 - accuracy: 0.8944 - val_loss: 0.5383 - val_accuracy: 0.7407\n",
      "Epoch 9/40\n",
      "28/28 - 2s - loss: 0.3008 - accuracy: 0.9084 - val_loss: 0.5282 - val_accuracy: 0.7560\n",
      "Epoch 10/40\n",
      "28/28 - 2s - loss: 0.2764 - accuracy: 0.9167 - val_loss: 0.5322 - val_accuracy: 0.7553\n",
      "Epoch 11/40\n",
      "28/28 - 2s - loss: 0.2539 - accuracy: 0.9271 - val_loss: 0.5413 - val_accuracy: 0.7593\n",
      "Epoch 12/40\n",
      "28/28 - 2s - loss: 0.2381 - accuracy: 0.9311 - val_loss: 0.5458 - val_accuracy: 0.7587\n",
      "Epoch 13/40\n",
      "28/28 - 2s - loss: 0.2247 - accuracy: 0.9391 - val_loss: 0.5692 - val_accuracy: 0.7620\n",
      "Epoch 14/40\n",
      "28/28 - 2s - loss: 0.2067 - accuracy: 0.9453 - val_loss: 0.5644 - val_accuracy: 0.7613\n",
      "Epoch 15/40\n",
      "28/28 - 2s - loss: 0.1909 - accuracy: 0.9494 - val_loss: 0.5767 - val_accuracy: 0.7600\n",
      "Epoch 16/40\n",
      "28/28 - 2s - loss: 0.1787 - accuracy: 0.9546 - val_loss: 0.5857 - val_accuracy: 0.7613\n"
     ]
    }
   ],
   "source": [
    "X_train = np.array(X_train)\n",
    "Y_train = np.array(Y_train)\n",
    "\n",
    "X_valid = np.array(X_valid)\n",
    "Y_valid = np.array(Y_valid)\n",
    "\n",
    "X_test = np.array(X_test)\n",
    "Y_test = np.array(Y_test)\n",
    "\n",
    "history = model.fit(X_train, Y_train, epochs = nb_epochs, batch_size = batch_size, validation_data = (X_valid, Y_valid), verbose = 2, callbacks = callback_list)"
   ]
  },
  {
   "cell_type": "markdown",
   "metadata": {},
   "source": [
    "## 8 - Model training analysis"
   ]
  },
  {
   "cell_type": "markdown",
   "metadata": {},
   "source": [
    "### 8.1 - Accuracy & Loss plots"
   ]
  },
  {
   "cell_type": "code",
   "execution_count": 150,
   "metadata": {},
   "outputs": [
    {
     "data": {
      "image/png": "[encoded data removed]",
      "text/plain": [
       "<Figure size 432x288 with 1 Axes>"
      ]
     },
     "metadata": {
      "needs_background": "light"
     },
     "output_type": "display_data"
    },
    {
     "data": {
      "image/png": "[encoded data removed]",
      "text/plain": [
       "<Figure size 432x288 with 1 Axes>"
      ]
     },
     "metadata": {
      "needs_background": "light"
     },
     "output_type": "display_data"
    }
   ],
   "source": [
    "def plot_graphs(history, string):\n",
    "    plt.plot(history.history[string])\n",
    "    plt.plot(history.history['val_'+string])\n",
    "    plt.xlabel(\"Epochs\")\n",
    "    plt.ylabel(string)\n",
    "    plt.legend([string, 'val_'+string])\n",
    "    plt.show()\n",
    "    \n",
    "plot_graphs(history, \"accuracy\")\n",
    "plot_graphs(history, \"loss\")"
   ]
  },
  {
   "cell_type": "markdown",
   "metadata": {},
   "source": [
    "### 8.2 - Loading log file information"
   ]
  },
  {
   "cell_type": "code",
   "execution_count": 151,
   "metadata": {},
   "outputs": [
    {
     "data": {
      "text/html": [
       "<div>\n",
       "<style scoped>\n",
       "    .dataframe tbody tr th:only-of-type {\n",
       "        vertical-align: middle;\n",
       "    }\n",
       "\n",
       "    .dataframe tbody tr th {\n",
       "        vertical-align: top;\n",
       "    }\n",
       "\n",
       "    .dataframe thead th {\n",
       "        text-align: right;\n",
       "    }\n",
       "</style>\n",
       "<table border=\"1\" class=\"dataframe\">\n",
       "  <thead>\n",
       "    <tr style=\"text-align: right;\">\n",
       "      <th></th>\n",
       "      <th>epoch</th>\n",
       "      <th>accuracy</th>\n",
       "      <th>loss</th>\n",
       "      <th>val_accuracy</th>\n",
       "      <th>val_loss</th>\n",
       "    </tr>\n",
       "  </thead>\n",
       "  <tbody>\n",
       "    <tr>\n",
       "      <th>0</th>\n",
       "      <td>0</td>\n",
       "      <td>0.602286</td>\n",
       "      <td>0.676600</td>\n",
       "      <td>0.566000</td>\n",
       "      <td>0.687322</td>\n",
       "    </tr>\n",
       "    <tr>\n",
       "      <th>1</th>\n",
       "      <td>1</td>\n",
       "      <td>0.602143</td>\n",
       "      <td>0.661307</td>\n",
       "      <td>0.566000</td>\n",
       "      <td>0.672222</td>\n",
       "    </tr>\n",
       "    <tr>\n",
       "      <th>2</th>\n",
       "      <td>2</td>\n",
       "      <td>0.609571</td>\n",
       "      <td>0.632659</td>\n",
       "      <td>0.584000</td>\n",
       "      <td>0.638332</td>\n",
       "    </tr>\n",
       "    <tr>\n",
       "      <th>3</th>\n",
       "      <td>3</td>\n",
       "      <td>0.728714</td>\n",
       "      <td>0.558089</td>\n",
       "      <td>0.684000</td>\n",
       "      <td>0.585563</td>\n",
       "    </tr>\n",
       "    <tr>\n",
       "      <th>4</th>\n",
       "      <td>4</td>\n",
       "      <td>0.817000</td>\n",
       "      <td>0.482891</td>\n",
       "      <td>0.744000</td>\n",
       "      <td>0.546846</td>\n",
       "    </tr>\n",
       "    <tr>\n",
       "      <th>5</th>\n",
       "      <td>5</td>\n",
       "      <td>0.849000</td>\n",
       "      <td>0.419954</td>\n",
       "      <td>0.757333</td>\n",
       "      <td>0.520709</td>\n",
       "    </tr>\n",
       "    <tr>\n",
       "      <th>6</th>\n",
       "      <td>6</td>\n",
       "      <td>0.880714</td>\n",
       "      <td>0.371449</td>\n",
       "      <td>0.741333</td>\n",
       "      <td>0.535495</td>\n",
       "    </tr>\n",
       "    <tr>\n",
       "      <th>7</th>\n",
       "      <td>7</td>\n",
       "      <td>0.894429</td>\n",
       "      <td>0.329657</td>\n",
       "      <td>0.740667</td>\n",
       "      <td>0.538305</td>\n",
       "    </tr>\n",
       "    <tr>\n",
       "      <th>8</th>\n",
       "      <td>8</td>\n",
       "      <td>0.908429</td>\n",
       "      <td>0.300780</td>\n",
       "      <td>0.756000</td>\n",
       "      <td>0.528164</td>\n",
       "    </tr>\n",
       "    <tr>\n",
       "      <th>9</th>\n",
       "      <td>9</td>\n",
       "      <td>0.916714</td>\n",
       "      <td>0.276406</td>\n",
       "      <td>0.755333</td>\n",
       "      <td>0.532204</td>\n",
       "    </tr>\n",
       "    <tr>\n",
       "      <th>10</th>\n",
       "      <td>10</td>\n",
       "      <td>0.927143</td>\n",
       "      <td>0.253863</td>\n",
       "      <td>0.759333</td>\n",
       "      <td>0.541294</td>\n",
       "    </tr>\n",
       "    <tr>\n",
       "      <th>11</th>\n",
       "      <td>11</td>\n",
       "      <td>0.931143</td>\n",
       "      <td>0.238082</td>\n",
       "      <td>0.758667</td>\n",
       "      <td>0.545781</td>\n",
       "    </tr>\n",
       "    <tr>\n",
       "      <th>12</th>\n",
       "      <td>12</td>\n",
       "      <td>0.939143</td>\n",
       "      <td>0.224740</td>\n",
       "      <td>0.762000</td>\n",
       "      <td>0.569220</td>\n",
       "    </tr>\n",
       "    <tr>\n",
       "      <th>13</th>\n",
       "      <td>13</td>\n",
       "      <td>0.945286</td>\n",
       "      <td>0.206741</td>\n",
       "      <td>0.761333</td>\n",
       "      <td>0.564406</td>\n",
       "    </tr>\n",
       "    <tr>\n",
       "      <th>14</th>\n",
       "      <td>14</td>\n",
       "      <td>0.949429</td>\n",
       "      <td>0.190857</td>\n",
       "      <td>0.760000</td>\n",
       "      <td>0.576664</td>\n",
       "    </tr>\n",
       "    <tr>\n",
       "      <th>15</th>\n",
       "      <td>15</td>\n",
       "      <td>0.954571</td>\n",
       "      <td>0.178706</td>\n",
       "      <td>0.761333</td>\n",
       "      <td>0.585655</td>\n",
       "    </tr>\n",
       "  </tbody>\n",
       "</table>\n",
       "</div>"
      ],
      "text/plain": [
       "    epoch  accuracy      loss  val_accuracy  val_loss\n",
       "0       0  0.602286  0.676600      0.566000  0.687322\n",
       "1       1  0.602143  0.661307      0.566000  0.672222\n",
       "2       2  0.609571  0.632659      0.584000  0.638332\n",
       "3       3  0.728714  0.558089      0.684000  0.585563\n",
       "4       4  0.817000  0.482891      0.744000  0.546846\n",
       "5       5  0.849000  0.419954      0.757333  0.520709\n",
       "6       6  0.880714  0.371449      0.741333  0.535495\n",
       "7       7  0.894429  0.329657      0.740667  0.538305\n",
       "8       8  0.908429  0.300780      0.756000  0.528164\n",
       "9       9  0.916714  0.276406      0.755333  0.532204\n",
       "10     10  0.927143  0.253863      0.759333  0.541294\n",
       "11     11  0.931143  0.238082      0.758667  0.545781\n",
       "12     12  0.939143  0.224740      0.762000  0.569220\n",
       "13     13  0.945286  0.206741      0.761333  0.564406\n",
       "14     14  0.949429  0.190857      0.760000  0.576664\n",
       "15     15  0.954571  0.178706      0.761333  0.585655"
      ]
     },
     "execution_count": 151,
     "metadata": {},
     "output_type": "execute_result"
    }
   ],
   "source": [
    "df_log = pd.read_csv('training_log.csv')\n",
    "df_log"
   ]
  },
  {
   "cell_type": "markdown",
   "metadata": {},
   "source": [
    "## 9 - Predictions on test set & new sentences"
   ]
  },
  {
   "cell_type": "code",
   "execution_count": 152,
   "metadata": {},
   "outputs": [
    {
     "name": "stdout",
     "output_type": "stream",
     "text": [
      "CONFUSION MATRIX\n",
      "====================\n",
      "TRUE POSITIVES : 128\n",
      "FALSE POSITIVES : 47\n",
      "FALSE NEGATIVES : 79\n",
      "TRUE NEGATIVES : 255\n",
      "--------------------\n",
      "ACCURACY : 75.25 %\n"
     ]
    }
   ],
   "source": [
    "Y_test_prediction = np.round_(model.predict(X_test)[:,0])\n",
    "conf_matrix = confusion_matrix(Y_test_prediction, Y_test)\n",
    "\n",
    "print('CONFUSION MATRIX' + '\\n' + '='*20)\n",
    "print('TRUE POSITIVES : ' + str(conf_matrix[0][0]) + '\\nFALSE POSITIVES : ' + str(conf_matrix[0][1]) + '\\nFALSE NEGATIVES : ' + str(conf_matrix[1][0]) + '\\nTRUE NEGATIVES : ' + str(conf_matrix[1][1]))\n",
    "print('-'*20 + '\\nACCURACY : ' + str(np.round_(100 * (conf_matrix[0][0] + conf_matrix[1][1])/(conf_matrix[0][0] + conf_matrix[1][0] + conf_matrix[0][1] + conf_matrix[1][1]),2)) + ' %')"
   ]
  },
  {
   "cell_type": "code",
   "execution_count": 153,
   "metadata": {},
   "outputs": [
    {
     "name": "stdout",
     "output_type": "stream",
     "text": [
      "Awesome computer, definitely recommend it : 👍\t (Trust : 89.1 %)\n",
      "Do not recommend it, very slow laptop : 👎\t (Trust : 88.7 %)\n",
      "Do recommend it, not very slow laptop : 👎\t (Trust : 90.1 %)\n",
      "so bad : 👍\t (Trust : 58.2 %)\n"
     ]
    }
   ],
   "source": [
    "sentences = ['Awesome computer, definitely recommend it', 'Do not recommend it, very slow laptop', 'Do recommend it, not very slow laptop', 'so bad']\n",
    "tokens = tokenizer.texts_to_sequences(sentences)\n",
    "padded_tokens = pad_sequences(tokens, maxlen = max_length, padding = 'post', truncating = 'post')\n",
    "predictions = list(np.reshape(model.predict(padded_tokens), len(sentences)))\n",
    "\n",
    "for i in range(len(sentences)):\n",
    "    if np.round(predictions[i]) == 1:\n",
    "        print(sentences[i] + ' : ' + str(emoji.emojize(':thumbs_up:') + '\\t (Trust : ' + str(np.round(100 * predictions[i],1)) + ' %)'))\n",
    "    else:\n",
    "        print(sentences[i] + ' : ' + str(emoji.emojize(':thumbs_down:') + '\\t (Trust : ' + str(np.round(100 - (100 * predictions[i]),1)) + ' %)'))\n",
    "    "
   ]
  },
  {
   "cell_type": "markdown",
   "metadata": {},
   "source": [
    "## 10 - Model parameters save "
   ]
  },
  {
   "cell_type": "code",
   "execution_count": 154,
   "metadata": {},
   "outputs": [],
   "source": [
    "model.save(\"seq_model.h5\")"
   ]
  },
  {
   "cell_type": "markdown",
   "metadata": {},
   "source": [
    "## 11 - Saved model loading"
   ]
  },
  {
   "cell_type": "code",
   "execution_count": 155,
   "metadata": {},
   "outputs": [
    {
     "name": "stdout",
     "output_type": "stream",
     "text": [
      "WARNING:tensorflow:Error in loading the saved optimizer state. As a result, your model is starting with a freshly initialized optimizer.\n",
      "Model: \"sequential_19\"\n",
      "_________________________________________________________________\n",
      "Layer (type)                 Output Shape              Param #   \n",
      "=================================================================\n",
      "embedding_19 (Embedding)     (None, None, 8)           80000     \n",
      "_________________________________________________________________\n",
      "bidirectional_16 (Bidirectio (None, 16)                1088      \n",
      "_________________________________________________________________\n",
      "dense_33 (Dense)             (None, 1)                 17        \n",
      "=================================================================\n",
      "Total params: 81,105\n",
      "Trainable params: 81,105\n",
      "Non-trainable params: 0\n",
      "_________________________________________________________________\n"
     ]
    }
   ],
   "source": [
    "model = load_model('seq_model.h5')\n",
    "model.summary()"
   ]
  },
  {
   "cell_type": "code",
   "execution_count": null,
   "metadata": {},
   "outputs": [],
   "source": []
  },
  {
   "cell_type": "code",
   "execution_count": null,
   "metadata": {},
   "outputs": [],
   "source": []
  }
 ],
 "metadata": {
  "kernelspec": {
   "display_name": "Python 3",
   "language": "python",
   "name": "python3"
  },
  "language_info": {
   "codemirror_mode": {
    "name": "ipython",
    "version": 3
   },
   "file_extension": ".py",
   "mimetype": "text/x-python",
   "name": "python",
   "nbconvert_exporter": "python",
   "pygments_lexer": "ipython3",
   "version": "3.8.2"
  }
 },
 "nbformat": 4,
 "nbformat_minor": 4
}
