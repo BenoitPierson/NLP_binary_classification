{
 "cells": [
  {
   "cell_type": "code",
   "execution_count": 79,
   "metadata": {},
   "outputs": [],
   "source": [
    "import csv\n",
    "import pandas as pd\n",
    "from bs4 import BeautifulSoup\n",
    "import requests\n",
    "import re\n",
    "import time\n",
    "import plotly.express as px\n",
    "from selenium import webdriver"
   ]
  },
  {
   "cell_type": "code",
   "execution_count": 80,
   "metadata": {},
   "outputs": [],
   "source": [
    "driver = webdriver.Chrome()"
   ]
  },
  {
   "cell_type": "markdown",
   "metadata": {},
   "source": [
    "### Fonction pour générer l'URL en fonction du terme recherché"
   ]
  },
  {
   "cell_type": "code",
   "execution_count": 81,
   "metadata": {},
   "outputs": [],
   "source": [
    "def url_by_term(search_term,num_page):\n",
    "    form = \"https://www.amazon.com/s?k={}&ref=nb_sb_noss_1&page=\"+str(num_page)\n",
    "    term = search_term.replace(\" \", \"+\")\n",
    "    return form.format(term)\n",
    "\n",
    "term = \"ordinateur portable\"\n"
   ]
  },
  {
   "cell_type": "markdown",
   "metadata": {},
   "source": [
    "### Extraction des liens"
   ]
  },
  {
   "cell_type": "code",
   "execution_count": 82,
   "metadata": {},
   "outputs": [],
   "source": [
    "links = []\n",
    "for i in range(20):\n",
    "    \n",
    "    url = url_by_term(term,i)\n",
    "    driver.get(url)\n",
    "\n",
    "    bs = BeautifulSoup(driver.page_source,'html.parser')\n",
    "    results = bs.find_all('h2', {'class':'a-size-mini a-spacing-none a-color-base s-line-clamp-2'})\n",
    "    \n",
    "\n",
    "    for r in results:\n",
    "        links.append('https://www.amazon.com'+r.find('a')['href'])\n"
   ]
  },
  {
   "cell_type": "markdown",
   "metadata": {},
   "source": [
    "### Extraction d'avis et de commentaire"
   ]
  },
  {
   "cell_type": "code",
   "execution_count": 83,
   "metadata": {},
   "outputs": [],
   "source": [
    "\n",
    "for j in range(len(links)):\n",
    "    links[j] = links[j].replace(\"dp\",\"product-reviews\")\n",
    "    \n",
    "review = []    \n",
    "list_links=[]\n",
    "positif=[]\n",
    "for g in links:\n",
    "    for i in range(5):\n",
    "        for j in ['positive','critical']:\n",
    "            list_links.append(g+\"&filterByStar=\"+j+\"&pageNumber=\"+str(i))\n",
    "            driver.get(g+\"&filterByStar=\"+j+\"&pageNumber=\"+str(i))\n",
    "\n",
    "            bs = BeautifulSoup(driver.page_source,'html.parser')\n",
    "            results = bs.find_all('span', {'data-hook':'review-body'})\n",
    "    \n",
    "\n",
    "            for r in results:\n",
    "                review.append(r.find('span').text)\n",
    "                \n",
    "                \n",
    "                if j == 'positive':\n",
    "                    positif.append(1)\n",
    "                else:\n",
    "                    positif.append(0)\n",
    "                \n"
   ]
  },
  {
   "cell_type": "markdown",
   "metadata": {},
   "source": [
    "### Nettoyage et Mise en Format JSON"
   ]
  },
  {
   "cell_type": "code",
   "execution_count": 84,
   "metadata": {},
   "outputs": [],
   "source": [
    "\n",
    "d = {'review' : review, 'positive': positif}\n",
    "review_df = pd.DataFrame(data=d)\n",
    "review_df = review_df.replace('\\n','', regex=True)\n",
    "review_df = review_df.replace('\\u2019','`', regex=True)\n",
    "review_df = review_df.replace('\\u201d','', regex=True)\n",
    "review_df = review_df.replace('\\u201c','', regex=True)\n",
    "review_df = review_df.replace('\\/',' ', regex=True)\n",
    "\n",
    "\n",
    "review_df.to_json(r'C:\\Users\\cleme\\OneDrive\\Documents\\Python Scripts\\Amazon Web Scrapping\\review_amazon_'+term.replace(' ','')+'.json',orient='records')"
   ]
  }
 ],
 "metadata": {
  "kernelspec": {
   "display_name": "Python 3",
   "language": "python",
   "name": "python3"
  },
  "language_info": {
   "codemirror_mode": {
    "name": "ipython",
    "version": 3
   },
   "file_extension": ".py",
   "mimetype": "text/x-python",
   "name": "python",
   "nbconvert_exporter": "python",
   "pygments_lexer": "ipython3",
   "version": "3.8.3"
  }
 },
 "nbformat": 4,
 "nbformat_minor": 4
}
